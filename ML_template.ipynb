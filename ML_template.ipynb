{
  "nbformat": 4,
  "nbformat_minor": 0,
  "metadata": {
    "colab": {
      "provenance": [],
      "collapsed_sections": [
        "yHQqbSGhyg92"
      ],
      "authorship_tag": "ABX9TyPsOyKsvsF0PGofm9a5klI8",
      "include_colab_link": true
    },
    "kernelspec": {
      "name": "python3",
      "display_name": "Python 3"
    },
    "language_info": {
      "name": "python"
    }
  },
  "cells": [
    {
      "cell_type": "markdown",
      "metadata": {
        "id": "view-in-github",
        "colab_type": "text"
      },
      "source": [
        "<a href=\"https://colab.research.google.com/github/osterhult/SomeMLCode/blob/main/ML_template.ipynb\" target=\"_parent\"><img src=\"https://colab.research.google.com/assets/colab-badge.svg\" alt=\"Open In Colab\"/></a>"
      ]
    },
    {
      "cell_type": "markdown",
      "source": [
        "## Importing libraries"
      ],
      "metadata": {
        "id": "Bcd30ANeId4h"
      }
    },
    {
      "cell_type": "code",
      "execution_count": 6,
      "metadata": {
        "id": "T2X3qwIHIWWT"
      },
      "outputs": [],
      "source": [
        "import pandas as pd\n",
        "import numpy as np\n",
        "import tensorflow as tf\n",
        "\n",
        "import matplotlib.pyplot as plt\n",
        "import seaborn as sns\n",
        "\n",
        "from sklearn.metrics import confusion_matrix, accuracy_score\n",
        "from sklearn.metrics import RocCurveDisplay, roc_curve, auc\n",
        "from sklearn.metrics import classification_report, log_loss \n",
        "\n",
        "from sklearn.compose import ColumnTransformer\n",
        "from sklearn.pipeline import Pipeline\n",
        "from sklearn.compose import make_column_selector\n",
        "from sklearn.impute import SimpleImputer\n",
        "from sklearn.preprocessing import StandardScaler, OneHotEncoder\n",
        "from sklearn.linear_model import LogisticRegression\n",
        "from sklearn.model_selection import train_test_split\n",
        "from sklearn.model_selection import cross_validate\n",
        "\n",
        "from sklearn.neighbors import KNeighborsClassifier\n",
        "from sklearn.svm import SVC, LinearSVC\n",
        "from sklearn.tree import DecisionTreeClassifier\n",
        "from sklearn.ensemble import RandomForestClassifier, AdaBoostClassifier, GradientBoostingClassifier\n",
        "from sklearn.discriminant_analysis import LinearDiscriminantAnalysis\n",
        "from sklearn.discriminant_analysis import QuadraticDiscriminantAnalysis\n",
        "import xgboost as xgb\n",
        "\n",
        "### Handle imbalanced datasets\n",
        "import imblearn"
      ]
    },
    {
      "cell_type": "code",
      "source": [
        "tf.__version__"
      ],
      "metadata": {
        "colab": {
          "base_uri": "https://localhost:8080/",
          "height": 37
        },
        "id": "i4jLZyIMIpqq",
        "outputId": "56b83b70-1c81-495d-9a0f-da90d5a5297c"
      },
      "execution_count": 7,
      "outputs": [
        {
          "output_type": "execute_result",
          "data": {
            "text/plain": [
              "'2.8.2'"
            ],
            "application/vnd.google.colaboratory.intrinsic+json": {
              "type": "string"
            }
          },
          "metadata": {},
          "execution_count": 7
        }
      ]
    },
    {
      "cell_type": "markdown",
      "source": [
        "## Getting data and inspecting it"
      ],
      "metadata": {
        "id": "ErE7GK2oIm32"
      }
    },
    {
      "cell_type": "code",
      "source": [
        "data = pd.read_csv('nbi_data_set.csv', sep=';')\n",
        "\n",
        "data.head()"
      ],
      "metadata": {
        "colab": {
          "base_uri": "https://localhost:8080/",
          "height": 382
        },
        "id": "pPkuPXCVIvcM",
        "outputId": "8f992d3c-6241-4962-9b19-ff45f5ebe4e6"
      },
      "execution_count": 8,
      "outputs": [
        {
          "output_type": "execute_result",
          "data": {
            "text/plain": [
              "   customerID  gender  SeniorCitizen Partner Dependents  tenure PhoneService  \\\n",
              "0  7590-VHVEG  Female              0     Yes         No       1           No   \n",
              "1  5575-GNVDE    Male              0      No         No      34          Yes   \n",
              "2  7795-CFOCW    Male              0      No         No      45           No   \n",
              "3  1452-KIOVK    Male              0      No        Yes      22          Yes   \n",
              "4  6713-OKOMC  Female              0      No         No      10           No   \n",
              "\n",
              "      MultipleLines InternetService OnlineSecurity  ... DeviceProtection  \\\n",
              "0  No phone service             DSL             No  ...               No   \n",
              "1                No             DSL            Yes  ...              Yes   \n",
              "2  No phone service             DSL            Yes  ...              Yes   \n",
              "3               Yes     Fiber optic             No  ...               No   \n",
              "4  No phone service             DSL            Yes  ...               No   \n",
              "\n",
              "  TechSupport StreamingTV StreamingMovies        Contract PaperlessBilling  \\\n",
              "0          No          No              No  Month-to-month              Yes   \n",
              "1          No          No              No        One year               No   \n",
              "2         Yes          No              No        One year               No   \n",
              "3          No         Yes              No  Month-to-month              Yes   \n",
              "4          No          No              No  Month-to-month               No   \n",
              "\n",
              "               PaymentMethod MonthlyCharges TotalCharges Churn  \n",
              "0           Electronic check          29,85        29,85    No  \n",
              "1               Mailed check          56,95       1889,5    No  \n",
              "2  Bank transfer (automatic)           42,3      1840,75    No  \n",
              "3    Credit card (automatic)           89,1       1949,4    No  \n",
              "4               Mailed check          29,75        301,9    No  \n",
              "\n",
              "[5 rows x 21 columns]"
            ],
            "text/html": [
              "\n",
              "  <div id=\"df-21f09062-9984-4976-ac6a-e061d882110e\">\n",
              "    <div class=\"colab-df-container\">\n",
              "      <div>\n",
              "<style scoped>\n",
              "    .dataframe tbody tr th:only-of-type {\n",
              "        vertical-align: middle;\n",
              "    }\n",
              "\n",
              "    .dataframe tbody tr th {\n",
              "        vertical-align: top;\n",
              "    }\n",
              "\n",
              "    .dataframe thead th {\n",
              "        text-align: right;\n",
              "    }\n",
              "</style>\n",
              "<table border=\"1\" class=\"dataframe\">\n",
              "  <thead>\n",
              "    <tr style=\"text-align: right;\">\n",
              "      <th></th>\n",
              "      <th>customerID</th>\n",
              "      <th>gender</th>\n",
              "      <th>SeniorCitizen</th>\n",
              "      <th>Partner</th>\n",
              "      <th>Dependents</th>\n",
              "      <th>tenure</th>\n",
              "      <th>PhoneService</th>\n",
              "      <th>MultipleLines</th>\n",
              "      <th>InternetService</th>\n",
              "      <th>OnlineSecurity</th>\n",
              "      <th>...</th>\n",
              "      <th>DeviceProtection</th>\n",
              "      <th>TechSupport</th>\n",
              "      <th>StreamingTV</th>\n",
              "      <th>StreamingMovies</th>\n",
              "      <th>Contract</th>\n",
              "      <th>PaperlessBilling</th>\n",
              "      <th>PaymentMethod</th>\n",
              "      <th>MonthlyCharges</th>\n",
              "      <th>TotalCharges</th>\n",
              "      <th>Churn</th>\n",
              "    </tr>\n",
              "  </thead>\n",
              "  <tbody>\n",
              "    <tr>\n",
              "      <th>0</th>\n",
              "      <td>7590-VHVEG</td>\n",
              "      <td>Female</td>\n",
              "      <td>0</td>\n",
              "      <td>Yes</td>\n",
              "      <td>No</td>\n",
              "      <td>1</td>\n",
              "      <td>No</td>\n",
              "      <td>No phone service</td>\n",
              "      <td>DSL</td>\n",
              "      <td>No</td>\n",
              "      <td>...</td>\n",
              "      <td>No</td>\n",
              "      <td>No</td>\n",
              "      <td>No</td>\n",
              "      <td>No</td>\n",
              "      <td>Month-to-month</td>\n",
              "      <td>Yes</td>\n",
              "      <td>Electronic check</td>\n",
              "      <td>29,85</td>\n",
              "      <td>29,85</td>\n",
              "      <td>No</td>\n",
              "    </tr>\n",
              "    <tr>\n",
              "      <th>1</th>\n",
              "      <td>5575-GNVDE</td>\n",
              "      <td>Male</td>\n",
              "      <td>0</td>\n",
              "      <td>No</td>\n",
              "      <td>No</td>\n",
              "      <td>34</td>\n",
              "      <td>Yes</td>\n",
              "      <td>No</td>\n",
              "      <td>DSL</td>\n",
              "      <td>Yes</td>\n",
              "      <td>...</td>\n",
              "      <td>Yes</td>\n",
              "      <td>No</td>\n",
              "      <td>No</td>\n",
              "      <td>No</td>\n",
              "      <td>One year</td>\n",
              "      <td>No</td>\n",
              "      <td>Mailed check</td>\n",
              "      <td>56,95</td>\n",
              "      <td>1889,5</td>\n",
              "      <td>No</td>\n",
              "    </tr>\n",
              "    <tr>\n",
              "      <th>2</th>\n",
              "      <td>7795-CFOCW</td>\n",
              "      <td>Male</td>\n",
              "      <td>0</td>\n",
              "      <td>No</td>\n",
              "      <td>No</td>\n",
              "      <td>45</td>\n",
              "      <td>No</td>\n",
              "      <td>No phone service</td>\n",
              "      <td>DSL</td>\n",
              "      <td>Yes</td>\n",
              "      <td>...</td>\n",
              "      <td>Yes</td>\n",
              "      <td>Yes</td>\n",
              "      <td>No</td>\n",
              "      <td>No</td>\n",
              "      <td>One year</td>\n",
              "      <td>No</td>\n",
              "      <td>Bank transfer (automatic)</td>\n",
              "      <td>42,3</td>\n",
              "      <td>1840,75</td>\n",
              "      <td>No</td>\n",
              "    </tr>\n",
              "    <tr>\n",
              "      <th>3</th>\n",
              "      <td>1452-KIOVK</td>\n",
              "      <td>Male</td>\n",
              "      <td>0</td>\n",
              "      <td>No</td>\n",
              "      <td>Yes</td>\n",
              "      <td>22</td>\n",
              "      <td>Yes</td>\n",
              "      <td>Yes</td>\n",
              "      <td>Fiber optic</td>\n",
              "      <td>No</td>\n",
              "      <td>...</td>\n",
              "      <td>No</td>\n",
              "      <td>No</td>\n",
              "      <td>Yes</td>\n",
              "      <td>No</td>\n",
              "      <td>Month-to-month</td>\n",
              "      <td>Yes</td>\n",
              "      <td>Credit card (automatic)</td>\n",
              "      <td>89,1</td>\n",
              "      <td>1949,4</td>\n",
              "      <td>No</td>\n",
              "    </tr>\n",
              "    <tr>\n",
              "      <th>4</th>\n",
              "      <td>6713-OKOMC</td>\n",
              "      <td>Female</td>\n",
              "      <td>0</td>\n",
              "      <td>No</td>\n",
              "      <td>No</td>\n",
              "      <td>10</td>\n",
              "      <td>No</td>\n",
              "      <td>No phone service</td>\n",
              "      <td>DSL</td>\n",
              "      <td>Yes</td>\n",
              "      <td>...</td>\n",
              "      <td>No</td>\n",
              "      <td>No</td>\n",
              "      <td>No</td>\n",
              "      <td>No</td>\n",
              "      <td>Month-to-month</td>\n",
              "      <td>No</td>\n",
              "      <td>Mailed check</td>\n",
              "      <td>29,75</td>\n",
              "      <td>301,9</td>\n",
              "      <td>No</td>\n",
              "    </tr>\n",
              "  </tbody>\n",
              "</table>\n",
              "<p>5 rows × 21 columns</p>\n",
              "</div>\n",
              "      <button class=\"colab-df-convert\" onclick=\"convertToInteractive('df-21f09062-9984-4976-ac6a-e061d882110e')\"\n",
              "              title=\"Convert this dataframe to an interactive table.\"\n",
              "              style=\"display:none;\">\n",
              "        \n",
              "  <svg xmlns=\"http://www.w3.org/2000/svg\" height=\"24px\"viewBox=\"0 0 24 24\"\n",
              "       width=\"24px\">\n",
              "    <path d=\"M0 0h24v24H0V0z\" fill=\"none\"/>\n",
              "    <path d=\"M18.56 5.44l.94 2.06.94-2.06 2.06-.94-2.06-.94-.94-2.06-.94 2.06-2.06.94zm-11 1L8.5 8.5l.94-2.06 2.06-.94-2.06-.94L8.5 2.5l-.94 2.06-2.06.94zm10 10l.94 2.06.94-2.06 2.06-.94-2.06-.94-.94-2.06-.94 2.06-2.06.94z\"/><path d=\"M17.41 7.96l-1.37-1.37c-.4-.4-.92-.59-1.43-.59-.52 0-1.04.2-1.43.59L10.3 9.45l-7.72 7.72c-.78.78-.78 2.05 0 2.83L4 21.41c.39.39.9.59 1.41.59.51 0 1.02-.2 1.41-.59l7.78-7.78 2.81-2.81c.8-.78.8-2.07 0-2.86zM5.41 20L4 18.59l7.72-7.72 1.47 1.35L5.41 20z\"/>\n",
              "  </svg>\n",
              "      </button>\n",
              "      \n",
              "  <style>\n",
              "    .colab-df-container {\n",
              "      display:flex;\n",
              "      flex-wrap:wrap;\n",
              "      gap: 12px;\n",
              "    }\n",
              "\n",
              "    .colab-df-convert {\n",
              "      background-color: #E8F0FE;\n",
              "      border: none;\n",
              "      border-radius: 50%;\n",
              "      cursor: pointer;\n",
              "      display: none;\n",
              "      fill: #1967D2;\n",
              "      height: 32px;\n",
              "      padding: 0 0 0 0;\n",
              "      width: 32px;\n",
              "    }\n",
              "\n",
              "    .colab-df-convert:hover {\n",
              "      background-color: #E2EBFA;\n",
              "      box-shadow: 0px 1px 2px rgba(60, 64, 67, 0.3), 0px 1px 3px 1px rgba(60, 64, 67, 0.15);\n",
              "      fill: #174EA6;\n",
              "    }\n",
              "\n",
              "    [theme=dark] .colab-df-convert {\n",
              "      background-color: #3B4455;\n",
              "      fill: #D2E3FC;\n",
              "    }\n",
              "\n",
              "    [theme=dark] .colab-df-convert:hover {\n",
              "      background-color: #434B5C;\n",
              "      box-shadow: 0px 1px 3px 1px rgba(0, 0, 0, 0.15);\n",
              "      filter: drop-shadow(0px 1px 2px rgba(0, 0, 0, 0.3));\n",
              "      fill: #FFFFFF;\n",
              "    }\n",
              "  </style>\n",
              "\n",
              "      <script>\n",
              "        const buttonEl =\n",
              "          document.querySelector('#df-21f09062-9984-4976-ac6a-e061d882110e button.colab-df-convert');\n",
              "        buttonEl.style.display =\n",
              "          google.colab.kernel.accessAllowed ? 'block' : 'none';\n",
              "\n",
              "        async function convertToInteractive(key) {\n",
              "          const element = document.querySelector('#df-21f09062-9984-4976-ac6a-e061d882110e');\n",
              "          const dataTable =\n",
              "            await google.colab.kernel.invokeFunction('convertToInteractive',\n",
              "                                                     [key], {});\n",
              "          if (!dataTable) return;\n",
              "\n",
              "          const docLinkHtml = 'Like what you see? Visit the ' +\n",
              "            '<a target=\"_blank\" href=https://colab.research.google.com/notebooks/data_table.ipynb>data table notebook</a>'\n",
              "            + ' to learn more about interactive tables.';\n",
              "          element.innerHTML = '';\n",
              "          dataTable['output_type'] = 'display_data';\n",
              "          await google.colab.output.renderOutput(dataTable, element);\n",
              "          const docLink = document.createElement('div');\n",
              "          docLink.innerHTML = docLinkHtml;\n",
              "          element.appendChild(docLink);\n",
              "        }\n",
              "      </script>\n",
              "    </div>\n",
              "  </div>\n",
              "  "
            ]
          },
          "metadata": {},
          "execution_count": 8
        }
      ]
    },
    {
      "cell_type": "markdown",
      "source": [
        "### Deleting the customerID column \n",
        "Since it will not bring anything to the model (only unique values)"
      ],
      "metadata": {
        "id": "PFo7r5HdI1Ru"
      }
    },
    {
      "cell_type": "code",
      "source": [
        "data.drop('customerID',axis=1,inplace=True)"
      ],
      "metadata": {
        "id": "rE7Fkv9qI2fD"
      },
      "execution_count": 9,
      "outputs": []
    },
    {
      "cell_type": "markdown",
      "source": [
        "### Checking out which type each column of the dataset has"
      ],
      "metadata": {
        "id": "8SvG1MtbI3-Q"
      }
    },
    {
      "cell_type": "code",
      "source": [
        "data_type_python = pd.DataFrame(data.dtypes).T.rename({0:'python data types'})\n",
        "data_type_python"
      ],
      "metadata": {
        "colab": {
          "base_uri": "https://localhost:8080/",
          "height": 178
        },
        "id": "Hs0pwwJdI6SS",
        "outputId": "fc174489-d1bd-4ef3-b9ed-cf35fcdc6e32"
      },
      "execution_count": 10,
      "outputs": [
        {
          "output_type": "execute_result",
          "data": {
            "text/plain": [
              "                   gender SeniorCitizen Partner Dependents tenure  \\\n",
              "python data types  object         int64  object     object  int64   \n",
              "\n",
              "                  PhoneService MultipleLines InternetService OnlineSecurity  \\\n",
              "python data types       object        object          object         object   \n",
              "\n",
              "                  OnlineBackup DeviceProtection TechSupport StreamingTV  \\\n",
              "python data types       object           object      object      object   \n",
              "\n",
              "                  StreamingMovies Contract PaperlessBilling PaymentMethod  \\\n",
              "python data types          object   object           object        object   \n",
              "\n",
              "                  MonthlyCharges TotalCharges   Churn  \n",
              "python data types         object       object  object  "
            ],
            "text/html": [
              "\n",
              "  <div id=\"df-dd27474e-2a80-4bca-954c-2db0dcdced01\">\n",
              "    <div class=\"colab-df-container\">\n",
              "      <div>\n",
              "<style scoped>\n",
              "    .dataframe tbody tr th:only-of-type {\n",
              "        vertical-align: middle;\n",
              "    }\n",
              "\n",
              "    .dataframe tbody tr th {\n",
              "        vertical-align: top;\n",
              "    }\n",
              "\n",
              "    .dataframe thead th {\n",
              "        text-align: right;\n",
              "    }\n",
              "</style>\n",
              "<table border=\"1\" class=\"dataframe\">\n",
              "  <thead>\n",
              "    <tr style=\"text-align: right;\">\n",
              "      <th></th>\n",
              "      <th>gender</th>\n",
              "      <th>SeniorCitizen</th>\n",
              "      <th>Partner</th>\n",
              "      <th>Dependents</th>\n",
              "      <th>tenure</th>\n",
              "      <th>PhoneService</th>\n",
              "      <th>MultipleLines</th>\n",
              "      <th>InternetService</th>\n",
              "      <th>OnlineSecurity</th>\n",
              "      <th>OnlineBackup</th>\n",
              "      <th>DeviceProtection</th>\n",
              "      <th>TechSupport</th>\n",
              "      <th>StreamingTV</th>\n",
              "      <th>StreamingMovies</th>\n",
              "      <th>Contract</th>\n",
              "      <th>PaperlessBilling</th>\n",
              "      <th>PaymentMethod</th>\n",
              "      <th>MonthlyCharges</th>\n",
              "      <th>TotalCharges</th>\n",
              "      <th>Churn</th>\n",
              "    </tr>\n",
              "  </thead>\n",
              "  <tbody>\n",
              "    <tr>\n",
              "      <th>python data types</th>\n",
              "      <td>object</td>\n",
              "      <td>int64</td>\n",
              "      <td>object</td>\n",
              "      <td>object</td>\n",
              "      <td>int64</td>\n",
              "      <td>object</td>\n",
              "      <td>object</td>\n",
              "      <td>object</td>\n",
              "      <td>object</td>\n",
              "      <td>object</td>\n",
              "      <td>object</td>\n",
              "      <td>object</td>\n",
              "      <td>object</td>\n",
              "      <td>object</td>\n",
              "      <td>object</td>\n",
              "      <td>object</td>\n",
              "      <td>object</td>\n",
              "      <td>object</td>\n",
              "      <td>object</td>\n",
              "      <td>object</td>\n",
              "    </tr>\n",
              "  </tbody>\n",
              "</table>\n",
              "</div>\n",
              "      <button class=\"colab-df-convert\" onclick=\"convertToInteractive('df-dd27474e-2a80-4bca-954c-2db0dcdced01')\"\n",
              "              title=\"Convert this dataframe to an interactive table.\"\n",
              "              style=\"display:none;\">\n",
              "        \n",
              "  <svg xmlns=\"http://www.w3.org/2000/svg\" height=\"24px\"viewBox=\"0 0 24 24\"\n",
              "       width=\"24px\">\n",
              "    <path d=\"M0 0h24v24H0V0z\" fill=\"none\"/>\n",
              "    <path d=\"M18.56 5.44l.94 2.06.94-2.06 2.06-.94-2.06-.94-.94-2.06-.94 2.06-2.06.94zm-11 1L8.5 8.5l.94-2.06 2.06-.94-2.06-.94L8.5 2.5l-.94 2.06-2.06.94zm10 10l.94 2.06.94-2.06 2.06-.94-2.06-.94-.94-2.06-.94 2.06-2.06.94z\"/><path d=\"M17.41 7.96l-1.37-1.37c-.4-.4-.92-.59-1.43-.59-.52 0-1.04.2-1.43.59L10.3 9.45l-7.72 7.72c-.78.78-.78 2.05 0 2.83L4 21.41c.39.39.9.59 1.41.59.51 0 1.02-.2 1.41-.59l7.78-7.78 2.81-2.81c.8-.78.8-2.07 0-2.86zM5.41 20L4 18.59l7.72-7.72 1.47 1.35L5.41 20z\"/>\n",
              "  </svg>\n",
              "      </button>\n",
              "      \n",
              "  <style>\n",
              "    .colab-df-container {\n",
              "      display:flex;\n",
              "      flex-wrap:wrap;\n",
              "      gap: 12px;\n",
              "    }\n",
              "\n",
              "    .colab-df-convert {\n",
              "      background-color: #E8F0FE;\n",
              "      border: none;\n",
              "      border-radius: 50%;\n",
              "      cursor: pointer;\n",
              "      display: none;\n",
              "      fill: #1967D2;\n",
              "      height: 32px;\n",
              "      padding: 0 0 0 0;\n",
              "      width: 32px;\n",
              "    }\n",
              "\n",
              "    .colab-df-convert:hover {\n",
              "      background-color: #E2EBFA;\n",
              "      box-shadow: 0px 1px 2px rgba(60, 64, 67, 0.3), 0px 1px 3px 1px rgba(60, 64, 67, 0.15);\n",
              "      fill: #174EA6;\n",
              "    }\n",
              "\n",
              "    [theme=dark] .colab-df-convert {\n",
              "      background-color: #3B4455;\n",
              "      fill: #D2E3FC;\n",
              "    }\n",
              "\n",
              "    [theme=dark] .colab-df-convert:hover {\n",
              "      background-color: #434B5C;\n",
              "      box-shadow: 0px 1px 3px 1px rgba(0, 0, 0, 0.15);\n",
              "      filter: drop-shadow(0px 1px 2px rgba(0, 0, 0, 0.3));\n",
              "      fill: #FFFFFF;\n",
              "    }\n",
              "  </style>\n",
              "\n",
              "      <script>\n",
              "        const buttonEl =\n",
              "          document.querySelector('#df-dd27474e-2a80-4bca-954c-2db0dcdced01 button.colab-df-convert');\n",
              "        buttonEl.style.display =\n",
              "          google.colab.kernel.accessAllowed ? 'block' : 'none';\n",
              "\n",
              "        async function convertToInteractive(key) {\n",
              "          const element = document.querySelector('#df-dd27474e-2a80-4bca-954c-2db0dcdced01');\n",
              "          const dataTable =\n",
              "            await google.colab.kernel.invokeFunction('convertToInteractive',\n",
              "                                                     [key], {});\n",
              "          if (!dataTable) return;\n",
              "\n",
              "          const docLinkHtml = 'Like what you see? Visit the ' +\n",
              "            '<a target=\"_blank\" href=https://colab.research.google.com/notebooks/data_table.ipynb>data table notebook</a>'\n",
              "            + ' to learn more about interactive tables.';\n",
              "          element.innerHTML = '';\n",
              "          dataTable['output_type'] = 'display_data';\n",
              "          await google.colab.output.renderOutput(dataTable, element);\n",
              "          const docLink = document.createElement('div');\n",
              "          docLink.innerHTML = docLinkHtml;\n",
              "          element.appendChild(docLink);\n",
              "        }\n",
              "      </script>\n",
              "    </div>\n",
              "  </div>\n",
              "  "
            ]
          },
          "metadata": {},
          "execution_count": 10
        }
      ]
    },
    {
      "cell_type": "markdown",
      "source": [
        "### Check for missing values in columns"
      ],
      "metadata": {
        "id": "WrGpLJrLwr_0"
      }
    },
    {
      "cell_type": "code",
      "source": [
        "data_count = pd.DataFrame(data.count()).T.rename({0:'total data'})\n",
        "data_count"
      ],
      "metadata": {
        "colab": {
          "base_uri": "https://localhost:8080/",
          "height": 161
        },
        "id": "VjIfIL9SwwZX",
        "outputId": "92ff3a99-76f3-48fa-b9f8-b8d666440daf"
      },
      "execution_count": 11,
      "outputs": [
        {
          "output_type": "execute_result",
          "data": {
            "text/plain": [
              "            gender  SeniorCitizen  Partner  Dependents  tenure  PhoneService  \\\n",
              "total data    5374           5374     5374        5374    5374          5374   \n",
              "\n",
              "            MultipleLines  InternetService  OnlineSecurity  OnlineBackup  \\\n",
              "total data           5374             5374            5374          5374   \n",
              "\n",
              "            DeviceProtection  TechSupport  StreamingTV  StreamingMovies  \\\n",
              "total data              5374         5374         5374             5374   \n",
              "\n",
              "            Contract  PaperlessBilling  PaymentMethod  MonthlyCharges  \\\n",
              "total data      5374              5374           5374            5374   \n",
              "\n",
              "            TotalCharges  Churn  \n",
              "total data          5363   5374  "
            ],
            "text/html": [
              "\n",
              "  <div id=\"df-3f2448a3-4ba0-48d0-a842-b8beb30636bf\">\n",
              "    <div class=\"colab-df-container\">\n",
              "      <div>\n",
              "<style scoped>\n",
              "    .dataframe tbody tr th:only-of-type {\n",
              "        vertical-align: middle;\n",
              "    }\n",
              "\n",
              "    .dataframe tbody tr th {\n",
              "        vertical-align: top;\n",
              "    }\n",
              "\n",
              "    .dataframe thead th {\n",
              "        text-align: right;\n",
              "    }\n",
              "</style>\n",
              "<table border=\"1\" class=\"dataframe\">\n",
              "  <thead>\n",
              "    <tr style=\"text-align: right;\">\n",
              "      <th></th>\n",
              "      <th>gender</th>\n",
              "      <th>SeniorCitizen</th>\n",
              "      <th>Partner</th>\n",
              "      <th>Dependents</th>\n",
              "      <th>tenure</th>\n",
              "      <th>PhoneService</th>\n",
              "      <th>MultipleLines</th>\n",
              "      <th>InternetService</th>\n",
              "      <th>OnlineSecurity</th>\n",
              "      <th>OnlineBackup</th>\n",
              "      <th>DeviceProtection</th>\n",
              "      <th>TechSupport</th>\n",
              "      <th>StreamingTV</th>\n",
              "      <th>StreamingMovies</th>\n",
              "      <th>Contract</th>\n",
              "      <th>PaperlessBilling</th>\n",
              "      <th>PaymentMethod</th>\n",
              "      <th>MonthlyCharges</th>\n",
              "      <th>TotalCharges</th>\n",
              "      <th>Churn</th>\n",
              "    </tr>\n",
              "  </thead>\n",
              "  <tbody>\n",
              "    <tr>\n",
              "      <th>total data</th>\n",
              "      <td>5374</td>\n",
              "      <td>5374</td>\n",
              "      <td>5374</td>\n",
              "      <td>5374</td>\n",
              "      <td>5374</td>\n",
              "      <td>5374</td>\n",
              "      <td>5374</td>\n",
              "      <td>5374</td>\n",
              "      <td>5374</td>\n",
              "      <td>5374</td>\n",
              "      <td>5374</td>\n",
              "      <td>5374</td>\n",
              "      <td>5374</td>\n",
              "      <td>5374</td>\n",
              "      <td>5374</td>\n",
              "      <td>5374</td>\n",
              "      <td>5374</td>\n",
              "      <td>5374</td>\n",
              "      <td>5363</td>\n",
              "      <td>5374</td>\n",
              "    </tr>\n",
              "  </tbody>\n",
              "</table>\n",
              "</div>\n",
              "      <button class=\"colab-df-convert\" onclick=\"convertToInteractive('df-3f2448a3-4ba0-48d0-a842-b8beb30636bf')\"\n",
              "              title=\"Convert this dataframe to an interactive table.\"\n",
              "              style=\"display:none;\">\n",
              "        \n",
              "  <svg xmlns=\"http://www.w3.org/2000/svg\" height=\"24px\"viewBox=\"0 0 24 24\"\n",
              "       width=\"24px\">\n",
              "    <path d=\"M0 0h24v24H0V0z\" fill=\"none\"/>\n",
              "    <path d=\"M18.56 5.44l.94 2.06.94-2.06 2.06-.94-2.06-.94-.94-2.06-.94 2.06-2.06.94zm-11 1L8.5 8.5l.94-2.06 2.06-.94-2.06-.94L8.5 2.5l-.94 2.06-2.06.94zm10 10l.94 2.06.94-2.06 2.06-.94-2.06-.94-.94-2.06-.94 2.06-2.06.94z\"/><path d=\"M17.41 7.96l-1.37-1.37c-.4-.4-.92-.59-1.43-.59-.52 0-1.04.2-1.43.59L10.3 9.45l-7.72 7.72c-.78.78-.78 2.05 0 2.83L4 21.41c.39.39.9.59 1.41.59.51 0 1.02-.2 1.41-.59l7.78-7.78 2.81-2.81c.8-.78.8-2.07 0-2.86zM5.41 20L4 18.59l7.72-7.72 1.47 1.35L5.41 20z\"/>\n",
              "  </svg>\n",
              "      </button>\n",
              "      \n",
              "  <style>\n",
              "    .colab-df-container {\n",
              "      display:flex;\n",
              "      flex-wrap:wrap;\n",
              "      gap: 12px;\n",
              "    }\n",
              "\n",
              "    .colab-df-convert {\n",
              "      background-color: #E8F0FE;\n",
              "      border: none;\n",
              "      border-radius: 50%;\n",
              "      cursor: pointer;\n",
              "      display: none;\n",
              "      fill: #1967D2;\n",
              "      height: 32px;\n",
              "      padding: 0 0 0 0;\n",
              "      width: 32px;\n",
              "    }\n",
              "\n",
              "    .colab-df-convert:hover {\n",
              "      background-color: #E2EBFA;\n",
              "      box-shadow: 0px 1px 2px rgba(60, 64, 67, 0.3), 0px 1px 3px 1px rgba(60, 64, 67, 0.15);\n",
              "      fill: #174EA6;\n",
              "    }\n",
              "\n",
              "    [theme=dark] .colab-df-convert {\n",
              "      background-color: #3B4455;\n",
              "      fill: #D2E3FC;\n",
              "    }\n",
              "\n",
              "    [theme=dark] .colab-df-convert:hover {\n",
              "      background-color: #434B5C;\n",
              "      box-shadow: 0px 1px 3px 1px rgba(0, 0, 0, 0.15);\n",
              "      filter: drop-shadow(0px 1px 2px rgba(0, 0, 0, 0.3));\n",
              "      fill: #FFFFFF;\n",
              "    }\n",
              "  </style>\n",
              "\n",
              "      <script>\n",
              "        const buttonEl =\n",
              "          document.querySelector('#df-3f2448a3-4ba0-48d0-a842-b8beb30636bf button.colab-df-convert');\n",
              "        buttonEl.style.display =\n",
              "          google.colab.kernel.accessAllowed ? 'block' : 'none';\n",
              "\n",
              "        async function convertToInteractive(key) {\n",
              "          const element = document.querySelector('#df-3f2448a3-4ba0-48d0-a842-b8beb30636bf');\n",
              "          const dataTable =\n",
              "            await google.colab.kernel.invokeFunction('convertToInteractive',\n",
              "                                                     [key], {});\n",
              "          if (!dataTable) return;\n",
              "\n",
              "          const docLinkHtml = 'Like what you see? Visit the ' +\n",
              "            '<a target=\"_blank\" href=https://colab.research.google.com/notebooks/data_table.ipynb>data table notebook</a>'\n",
              "            + ' to learn more about interactive tables.';\n",
              "          element.innerHTML = '';\n",
              "          dataTable['output_type'] = 'display_data';\n",
              "          await google.colab.output.renderOutput(dataTable, element);\n",
              "          const docLink = document.createElement('div');\n",
              "          docLink.innerHTML = docLinkHtml;\n",
              "          element.appendChild(docLink);\n",
              "        }\n",
              "      </script>\n",
              "    </div>\n",
              "  </div>\n",
              "  "
            ]
          },
          "metadata": {},
          "execution_count": 11
        }
      ]
    },
    {
      "cell_type": "markdown",
      "source": [
        "### Check for null values in columns"
      ],
      "metadata": {
        "id": "uUKMLu_AwyNn"
      }
    },
    {
      "cell_type": "code",
      "source": [
        "data_null_total = pd.DataFrame(data.isna().sum()).T.rename({0:'total null'})\n",
        "data_null_total"
      ],
      "metadata": {
        "colab": {
          "base_uri": "https://localhost:8080/",
          "height": 161
        },
        "id": "aDx-wZSCw0a4",
        "outputId": "cc3945e4-ecc7-4dfd-c9bb-213a7197a869"
      },
      "execution_count": 12,
      "outputs": [
        {
          "output_type": "execute_result",
          "data": {
            "text/plain": [
              "            gender  SeniorCitizen  Partner  Dependents  tenure  PhoneService  \\\n",
              "total null       0              0        0           0       0             0   \n",
              "\n",
              "            MultipleLines  InternetService  OnlineSecurity  OnlineBackup  \\\n",
              "total null              0                0               0             0   \n",
              "\n",
              "            DeviceProtection  TechSupport  StreamingTV  StreamingMovies  \\\n",
              "total null                 0            0            0                0   \n",
              "\n",
              "            Contract  PaperlessBilling  PaymentMethod  MonthlyCharges  \\\n",
              "total null         0                 0              0               0   \n",
              "\n",
              "            TotalCharges  Churn  \n",
              "total null            11      0  "
            ],
            "text/html": [
              "\n",
              "  <div id=\"df-77096aeb-4f57-4825-b4ee-b2c26eb37d72\">\n",
              "    <div class=\"colab-df-container\">\n",
              "      <div>\n",
              "<style scoped>\n",
              "    .dataframe tbody tr th:only-of-type {\n",
              "        vertical-align: middle;\n",
              "    }\n",
              "\n",
              "    .dataframe tbody tr th {\n",
              "        vertical-align: top;\n",
              "    }\n",
              "\n",
              "    .dataframe thead th {\n",
              "        text-align: right;\n",
              "    }\n",
              "</style>\n",
              "<table border=\"1\" class=\"dataframe\">\n",
              "  <thead>\n",
              "    <tr style=\"text-align: right;\">\n",
              "      <th></th>\n",
              "      <th>gender</th>\n",
              "      <th>SeniorCitizen</th>\n",
              "      <th>Partner</th>\n",
              "      <th>Dependents</th>\n",
              "      <th>tenure</th>\n",
              "      <th>PhoneService</th>\n",
              "      <th>MultipleLines</th>\n",
              "      <th>InternetService</th>\n",
              "      <th>OnlineSecurity</th>\n",
              "      <th>OnlineBackup</th>\n",
              "      <th>DeviceProtection</th>\n",
              "      <th>TechSupport</th>\n",
              "      <th>StreamingTV</th>\n",
              "      <th>StreamingMovies</th>\n",
              "      <th>Contract</th>\n",
              "      <th>PaperlessBilling</th>\n",
              "      <th>PaymentMethod</th>\n",
              "      <th>MonthlyCharges</th>\n",
              "      <th>TotalCharges</th>\n",
              "      <th>Churn</th>\n",
              "    </tr>\n",
              "  </thead>\n",
              "  <tbody>\n",
              "    <tr>\n",
              "      <th>total null</th>\n",
              "      <td>0</td>\n",
              "      <td>0</td>\n",
              "      <td>0</td>\n",
              "      <td>0</td>\n",
              "      <td>0</td>\n",
              "      <td>0</td>\n",
              "      <td>0</td>\n",
              "      <td>0</td>\n",
              "      <td>0</td>\n",
              "      <td>0</td>\n",
              "      <td>0</td>\n",
              "      <td>0</td>\n",
              "      <td>0</td>\n",
              "      <td>0</td>\n",
              "      <td>0</td>\n",
              "      <td>0</td>\n",
              "      <td>0</td>\n",
              "      <td>0</td>\n",
              "      <td>11</td>\n",
              "      <td>0</td>\n",
              "    </tr>\n",
              "  </tbody>\n",
              "</table>\n",
              "</div>\n",
              "      <button class=\"colab-df-convert\" onclick=\"convertToInteractive('df-77096aeb-4f57-4825-b4ee-b2c26eb37d72')\"\n",
              "              title=\"Convert this dataframe to an interactive table.\"\n",
              "              style=\"display:none;\">\n",
              "        \n",
              "  <svg xmlns=\"http://www.w3.org/2000/svg\" height=\"24px\"viewBox=\"0 0 24 24\"\n",
              "       width=\"24px\">\n",
              "    <path d=\"M0 0h24v24H0V0z\" fill=\"none\"/>\n",
              "    <path d=\"M18.56 5.44l.94 2.06.94-2.06 2.06-.94-2.06-.94-.94-2.06-.94 2.06-2.06.94zm-11 1L8.5 8.5l.94-2.06 2.06-.94-2.06-.94L8.5 2.5l-.94 2.06-2.06.94zm10 10l.94 2.06.94-2.06 2.06-.94-2.06-.94-.94-2.06-.94 2.06-2.06.94z\"/><path d=\"M17.41 7.96l-1.37-1.37c-.4-.4-.92-.59-1.43-.59-.52 0-1.04.2-1.43.59L10.3 9.45l-7.72 7.72c-.78.78-.78 2.05 0 2.83L4 21.41c.39.39.9.59 1.41.59.51 0 1.02-.2 1.41-.59l7.78-7.78 2.81-2.81c.8-.78.8-2.07 0-2.86zM5.41 20L4 18.59l7.72-7.72 1.47 1.35L5.41 20z\"/>\n",
              "  </svg>\n",
              "      </button>\n",
              "      \n",
              "  <style>\n",
              "    .colab-df-container {\n",
              "      display:flex;\n",
              "      flex-wrap:wrap;\n",
              "      gap: 12px;\n",
              "    }\n",
              "\n",
              "    .colab-df-convert {\n",
              "      background-color: #E8F0FE;\n",
              "      border: none;\n",
              "      border-radius: 50%;\n",
              "      cursor: pointer;\n",
              "      display: none;\n",
              "      fill: #1967D2;\n",
              "      height: 32px;\n",
              "      padding: 0 0 0 0;\n",
              "      width: 32px;\n",
              "    }\n",
              "\n",
              "    .colab-df-convert:hover {\n",
              "      background-color: #E2EBFA;\n",
              "      box-shadow: 0px 1px 2px rgba(60, 64, 67, 0.3), 0px 1px 3px 1px rgba(60, 64, 67, 0.15);\n",
              "      fill: #174EA6;\n",
              "    }\n",
              "\n",
              "    [theme=dark] .colab-df-convert {\n",
              "      background-color: #3B4455;\n",
              "      fill: #D2E3FC;\n",
              "    }\n",
              "\n",
              "    [theme=dark] .colab-df-convert:hover {\n",
              "      background-color: #434B5C;\n",
              "      box-shadow: 0px 1px 3px 1px rgba(0, 0, 0, 0.15);\n",
              "      filter: drop-shadow(0px 1px 2px rgba(0, 0, 0, 0.3));\n",
              "      fill: #FFFFFF;\n",
              "    }\n",
              "  </style>\n",
              "\n",
              "      <script>\n",
              "        const buttonEl =\n",
              "          document.querySelector('#df-77096aeb-4f57-4825-b4ee-b2c26eb37d72 button.colab-df-convert');\n",
              "        buttonEl.style.display =\n",
              "          google.colab.kernel.accessAllowed ? 'block' : 'none';\n",
              "\n",
              "        async function convertToInteractive(key) {\n",
              "          const element = document.querySelector('#df-77096aeb-4f57-4825-b4ee-b2c26eb37d72');\n",
              "          const dataTable =\n",
              "            await google.colab.kernel.invokeFunction('convertToInteractive',\n",
              "                                                     [key], {});\n",
              "          if (!dataTable) return;\n",
              "\n",
              "          const docLinkHtml = 'Like what you see? Visit the ' +\n",
              "            '<a target=\"_blank\" href=https://colab.research.google.com/notebooks/data_table.ipynb>data table notebook</a>'\n",
              "            + ' to learn more about interactive tables.';\n",
              "          element.innerHTML = '';\n",
              "          dataTable['output_type'] = 'display_data';\n",
              "          await google.colab.output.renderOutput(dataTable, element);\n",
              "          const docLink = document.createElement('div');\n",
              "          docLink.innerHTML = docLinkHtml;\n",
              "          element.appendChild(docLink);\n",
              "        }\n",
              "      </script>\n",
              "    </div>\n",
              "  </div>\n",
              "  "
            ]
          },
          "metadata": {},
          "execution_count": 12
        }
      ]
    },
    {
      "cell_type": "markdown",
      "source": [
        "### Since all the missing values where where null values replacing null with 0"
      ],
      "metadata": {
        "id": "k4WAolllw2HC"
      }
    },
    {
      "cell_type": "code",
      "source": [
        "data['TotalCharges'].fillna(0, inplace=True)\n",
        "data['TotalCharges'].isna().sum()"
      ],
      "metadata": {
        "colab": {
          "base_uri": "https://localhost:8080/"
        },
        "id": "r4pOKwEaw4Uj",
        "outputId": "16a59162-6f01-4282-9cea-b579e21a16c5"
      },
      "execution_count": 13,
      "outputs": [
        {
          "output_type": "execute_result",
          "data": {
            "text/plain": [
              "0"
            ]
          },
          "metadata": {},
          "execution_count": 13
        }
      ]
    },
    {
      "cell_type": "markdown",
      "source": [
        "### Numerical and Categorical data"
      ],
      "metadata": {
        "id": "OAXPsBcdw6Gc"
      }
    },
    {
      "cell_type": "code",
      "source": [
        "# numerical\n",
        "column_numerical = ['tenure', 'MonthlyCharges', 'TotalCharges']\n",
        "\n",
        "# categorical\n",
        "column_categorical = list(data.columns)\n",
        "column_categorical.remove('tenure')\n",
        "column_categorical.remove('MonthlyCharges')\n",
        "column_categorical.remove('TotalCharges')\n",
        "\n",
        "column_categorical\n",
        "\n",
        "data.info()\n"
      ],
      "metadata": {
        "colab": {
          "base_uri": "https://localhost:8080/"
        },
        "id": "vAFmvhqnw7tZ",
        "outputId": "21d69cb4-0756-490f-b14c-2140ae76c0e8"
      },
      "execution_count": 14,
      "outputs": [
        {
          "output_type": "stream",
          "name": "stdout",
          "text": [
            "<class 'pandas.core.frame.DataFrame'>\n",
            "RangeIndex: 5374 entries, 0 to 5373\n",
            "Data columns (total 20 columns):\n",
            " #   Column            Non-Null Count  Dtype \n",
            "---  ------            --------------  ----- \n",
            " 0   gender            5374 non-null   object\n",
            " 1   SeniorCitizen     5374 non-null   int64 \n",
            " 2   Partner           5374 non-null   object\n",
            " 3   Dependents        5374 non-null   object\n",
            " 4   tenure            5374 non-null   int64 \n",
            " 5   PhoneService      5374 non-null   object\n",
            " 6   MultipleLines     5374 non-null   object\n",
            " 7   InternetService   5374 non-null   object\n",
            " 8   OnlineSecurity    5374 non-null   object\n",
            " 9   OnlineBackup      5374 non-null   object\n",
            " 10  DeviceProtection  5374 non-null   object\n",
            " 11  TechSupport       5374 non-null   object\n",
            " 12  StreamingTV       5374 non-null   object\n",
            " 13  StreamingMovies   5374 non-null   object\n",
            " 14  Contract          5374 non-null   object\n",
            " 15  PaperlessBilling  5374 non-null   object\n",
            " 16  PaymentMethod     5374 non-null   object\n",
            " 17  MonthlyCharges    5374 non-null   object\n",
            " 18  TotalCharges      5374 non-null   object\n",
            " 19  Churn             5374 non-null   object\n",
            "dtypes: int64(2), object(18)\n",
            "memory usage: 839.8+ KB\n"
          ]
        }
      ]
    },
    {
      "cell_type": "markdown",
      "source": [
        "### Variation in each data column"
      ],
      "metadata": {
        "id": "CyZ3uxBXw9Jc"
      }
    },
    {
      "cell_type": "code",
      "source": [
        "variation_categorical = dict()\n",
        "\n",
        "for col in column_categorical:\n",
        "  tmp = data[col].unique().tolist()\n",
        "  tmp.sort()\n",
        "  variation_categorical[col] = ', '.join(str(item) for item in tmp)\n",
        "\n",
        "tmp = pd.Series(variation_categorical)\n",
        "data_variation_categorical = pd.DataFrame(tmp).T.rename({0:'data variation'})\n",
        "data_variation_categorical\n"
      ],
      "metadata": {
        "colab": {
          "base_uri": "https://localhost:8080/",
          "height": 175
        },
        "id": "zHmbzYOnw_CU",
        "outputId": "93827d2f-4c15-467d-f1ba-9c0a974e6482"
      },
      "execution_count": 15,
      "outputs": [
        {
          "output_type": "execute_result",
          "data": {
            "text/plain": [
              "                      gender SeniorCitizen  Partner Dependents PhoneService  \\\n",
              "data variation  Female, Male          0, 1  No, Yes    No, Yes      No, Yes   \n",
              "\n",
              "                            MultipleLines       InternetService  \\\n",
              "data variation  No, No phone service, Yes  DSL, Fiber optic, No   \n",
              "\n",
              "                              OnlineSecurity                  OnlineBackup  \\\n",
              "data variation  No, No internet service, Yes  No, No internet service, Yes   \n",
              "\n",
              "                            DeviceProtection                   TechSupport  \\\n",
              "data variation  No, No internet service, Yes  No, No internet service, Yes   \n",
              "\n",
              "                                 StreamingTV               StreamingMovies  \\\n",
              "data variation  No, No internet service, Yes  No, No internet service, Yes   \n",
              "\n",
              "                                          Contract PaperlessBilling  \\\n",
              "data variation  Month-to-month, One year, Two year          No, Yes   \n",
              "\n",
              "                                                    PaymentMethod    Churn  \n",
              "data variation  Bank transfer (automatic), Credit card (automa...  No, Yes  "
            ],
            "text/html": [
              "\n",
              "  <div id=\"df-3b4e193c-c8e3-4457-8aab-913c3c70be88\">\n",
              "    <div class=\"colab-df-container\">\n",
              "      <div>\n",
              "<style scoped>\n",
              "    .dataframe tbody tr th:only-of-type {\n",
              "        vertical-align: middle;\n",
              "    }\n",
              "\n",
              "    .dataframe tbody tr th {\n",
              "        vertical-align: top;\n",
              "    }\n",
              "\n",
              "    .dataframe thead th {\n",
              "        text-align: right;\n",
              "    }\n",
              "</style>\n",
              "<table border=\"1\" class=\"dataframe\">\n",
              "  <thead>\n",
              "    <tr style=\"text-align: right;\">\n",
              "      <th></th>\n",
              "      <th>gender</th>\n",
              "      <th>SeniorCitizen</th>\n",
              "      <th>Partner</th>\n",
              "      <th>Dependents</th>\n",
              "      <th>PhoneService</th>\n",
              "      <th>MultipleLines</th>\n",
              "      <th>InternetService</th>\n",
              "      <th>OnlineSecurity</th>\n",
              "      <th>OnlineBackup</th>\n",
              "      <th>DeviceProtection</th>\n",
              "      <th>TechSupport</th>\n",
              "      <th>StreamingTV</th>\n",
              "      <th>StreamingMovies</th>\n",
              "      <th>Contract</th>\n",
              "      <th>PaperlessBilling</th>\n",
              "      <th>PaymentMethod</th>\n",
              "      <th>Churn</th>\n",
              "    </tr>\n",
              "  </thead>\n",
              "  <tbody>\n",
              "    <tr>\n",
              "      <th>data variation</th>\n",
              "      <td>Female, Male</td>\n",
              "      <td>0, 1</td>\n",
              "      <td>No, Yes</td>\n",
              "      <td>No, Yes</td>\n",
              "      <td>No, Yes</td>\n",
              "      <td>No, No phone service, Yes</td>\n",
              "      <td>DSL, Fiber optic, No</td>\n",
              "      <td>No, No internet service, Yes</td>\n",
              "      <td>No, No internet service, Yes</td>\n",
              "      <td>No, No internet service, Yes</td>\n",
              "      <td>No, No internet service, Yes</td>\n",
              "      <td>No, No internet service, Yes</td>\n",
              "      <td>No, No internet service, Yes</td>\n",
              "      <td>Month-to-month, One year, Two year</td>\n",
              "      <td>No, Yes</td>\n",
              "      <td>Bank transfer (automatic), Credit card (automa...</td>\n",
              "      <td>No, Yes</td>\n",
              "    </tr>\n",
              "  </tbody>\n",
              "</table>\n",
              "</div>\n",
              "      <button class=\"colab-df-convert\" onclick=\"convertToInteractive('df-3b4e193c-c8e3-4457-8aab-913c3c70be88')\"\n",
              "              title=\"Convert this dataframe to an interactive table.\"\n",
              "              style=\"display:none;\">\n",
              "        \n",
              "  <svg xmlns=\"http://www.w3.org/2000/svg\" height=\"24px\"viewBox=\"0 0 24 24\"\n",
              "       width=\"24px\">\n",
              "    <path d=\"M0 0h24v24H0V0z\" fill=\"none\"/>\n",
              "    <path d=\"M18.56 5.44l.94 2.06.94-2.06 2.06-.94-2.06-.94-.94-2.06-.94 2.06-2.06.94zm-11 1L8.5 8.5l.94-2.06 2.06-.94-2.06-.94L8.5 2.5l-.94 2.06-2.06.94zm10 10l.94 2.06.94-2.06 2.06-.94-2.06-.94-.94-2.06-.94 2.06-2.06.94z\"/><path d=\"M17.41 7.96l-1.37-1.37c-.4-.4-.92-.59-1.43-.59-.52 0-1.04.2-1.43.59L10.3 9.45l-7.72 7.72c-.78.78-.78 2.05 0 2.83L4 21.41c.39.39.9.59 1.41.59.51 0 1.02-.2 1.41-.59l7.78-7.78 2.81-2.81c.8-.78.8-2.07 0-2.86zM5.41 20L4 18.59l7.72-7.72 1.47 1.35L5.41 20z\"/>\n",
              "  </svg>\n",
              "      </button>\n",
              "      \n",
              "  <style>\n",
              "    .colab-df-container {\n",
              "      display:flex;\n",
              "      flex-wrap:wrap;\n",
              "      gap: 12px;\n",
              "    }\n",
              "\n",
              "    .colab-df-convert {\n",
              "      background-color: #E8F0FE;\n",
              "      border: none;\n",
              "      border-radius: 50%;\n",
              "      cursor: pointer;\n",
              "      display: none;\n",
              "      fill: #1967D2;\n",
              "      height: 32px;\n",
              "      padding: 0 0 0 0;\n",
              "      width: 32px;\n",
              "    }\n",
              "\n",
              "    .colab-df-convert:hover {\n",
              "      background-color: #E2EBFA;\n",
              "      box-shadow: 0px 1px 2px rgba(60, 64, 67, 0.3), 0px 1px 3px 1px rgba(60, 64, 67, 0.15);\n",
              "      fill: #174EA6;\n",
              "    }\n",
              "\n",
              "    [theme=dark] .colab-df-convert {\n",
              "      background-color: #3B4455;\n",
              "      fill: #D2E3FC;\n",
              "    }\n",
              "\n",
              "    [theme=dark] .colab-df-convert:hover {\n",
              "      background-color: #434B5C;\n",
              "      box-shadow: 0px 1px 3px 1px rgba(0, 0, 0, 0.15);\n",
              "      filter: drop-shadow(0px 1px 2px rgba(0, 0, 0, 0.3));\n",
              "      fill: #FFFFFF;\n",
              "    }\n",
              "  </style>\n",
              "\n",
              "      <script>\n",
              "        const buttonEl =\n",
              "          document.querySelector('#df-3b4e193c-c8e3-4457-8aab-913c3c70be88 button.colab-df-convert');\n",
              "        buttonEl.style.display =\n",
              "          google.colab.kernel.accessAllowed ? 'block' : 'none';\n",
              "\n",
              "        async function convertToInteractive(key) {\n",
              "          const element = document.querySelector('#df-3b4e193c-c8e3-4457-8aab-913c3c70be88');\n",
              "          const dataTable =\n",
              "            await google.colab.kernel.invokeFunction('convertToInteractive',\n",
              "                                                     [key], {});\n",
              "          if (!dataTable) return;\n",
              "\n",
              "          const docLinkHtml = 'Like what you see? Visit the ' +\n",
              "            '<a target=\"_blank\" href=https://colab.research.google.com/notebooks/data_table.ipynb>data table notebook</a>'\n",
              "            + ' to learn more about interactive tables.';\n",
              "          element.innerHTML = '';\n",
              "          dataTable['output_type'] = 'display_data';\n",
              "          await google.colab.output.renderOutput(dataTable, element);\n",
              "          const docLink = document.createElement('div');\n",
              "          docLink.innerHTML = docLinkHtml;\n",
              "          element.appendChild(docLink);\n",
              "        }\n",
              "      </script>\n",
              "    </div>\n",
              "  </div>\n",
              "  "
            ]
          },
          "metadata": {},
          "execution_count": 15
        }
      ]
    },
    {
      "cell_type": "markdown",
      "source": [
        "## Preprocessing the data"
      ],
      "metadata": {
        "id": "M6HGB4YDxAma"
      }
    },
    {
      "cell_type": "markdown",
      "source": [
        "### Replacing \"No...\" with a simple \"No\" makes a few more feature \"binery\""
      ],
      "metadata": {
        "id": "tnCr1Q7DxCnc"
      }
    },
    {
      "cell_type": "code",
      "source": [
        "# replace redundant values\n",
        "data.replace({'No phone service':'No',\n",
        "            'No internet service':'No'},\n",
        "            inplace=True)"
      ],
      "metadata": {
        "id": "fTG7-zJPxD7p"
      },
      "execution_count": 16,
      "outputs": []
    },
    {
      "cell_type": "markdown",
      "source": [
        "### Turning \"binary\" columns into 0:s and 1:s"
      ],
      "metadata": {
        "id": "de3kx2sAxFKk"
      }
    },
    {
      "cell_type": "code",
      "source": [
        "from sklearn.preprocessing import LabelEncoder\n",
        "\n",
        "binerycat = ['gender','Partner','Dependents','PhoneService', 'MultipleLines', 'OnlineSecurity', 'OnlineBackup', 'DeviceProtection', 'TechSupport', 'StreamingTV', 'StreamingMovies', 'PaperlessBilling','Churn']\n",
        "\n",
        "# Encode Categorical Columns\n",
        "le = LabelEncoder()\n",
        "data[binerycat] = data[binerycat].apply(le.fit_transform)\n"
      ],
      "metadata": {
        "id": "-uZPHSbDxHGJ"
      },
      "execution_count": 17,
      "outputs": []
    },
    {
      "cell_type": "code",
      "source": [
        "data.head()"
      ],
      "metadata": {
        "colab": {
          "base_uri": "https://localhost:8080/",
          "height": 336
        },
        "id": "XZ7juCxgxKEY",
        "outputId": "d450417b-3b38-4340-bd54-47a569ce7db3"
      },
      "execution_count": 18,
      "outputs": [
        {
          "output_type": "execute_result",
          "data": {
            "text/plain": [
              "   gender  SeniorCitizen  Partner  Dependents  tenure  PhoneService  \\\n",
              "0       0              0        1           0       1             0   \n",
              "1       1              0        0           0      34             1   \n",
              "2       1              0        0           0      45             0   \n",
              "3       1              0        0           1      22             1   \n",
              "4       0              0        0           0      10             0   \n",
              "\n",
              "   MultipleLines InternetService  OnlineSecurity  OnlineBackup  \\\n",
              "0              0             DSL               0             1   \n",
              "1              0             DSL               1             0   \n",
              "2              0             DSL               1             0   \n",
              "3              1     Fiber optic               0             1   \n",
              "4              0             DSL               1             0   \n",
              "\n",
              "   DeviceProtection  TechSupport  StreamingTV  StreamingMovies  \\\n",
              "0                 0            0            0                0   \n",
              "1                 1            0            0                0   \n",
              "2                 1            1            0                0   \n",
              "3                 0            0            1                0   \n",
              "4                 0            0            0                0   \n",
              "\n",
              "         Contract  PaperlessBilling              PaymentMethod MonthlyCharges  \\\n",
              "0  Month-to-month                 1           Electronic check          29,85   \n",
              "1        One year                 0               Mailed check          56,95   \n",
              "2        One year                 0  Bank transfer (automatic)           42,3   \n",
              "3  Month-to-month                 1    Credit card (automatic)           89,1   \n",
              "4  Month-to-month                 0               Mailed check          29,75   \n",
              "\n",
              "  TotalCharges  Churn  \n",
              "0        29,85      0  \n",
              "1       1889,5      0  \n",
              "2      1840,75      0  \n",
              "3       1949,4      0  \n",
              "4        301,9      0  "
            ],
            "text/html": [
              "\n",
              "  <div id=\"df-5085f621-4f39-45c6-ac90-82674e11b84e\">\n",
              "    <div class=\"colab-df-container\">\n",
              "      <div>\n",
              "<style scoped>\n",
              "    .dataframe tbody tr th:only-of-type {\n",
              "        vertical-align: middle;\n",
              "    }\n",
              "\n",
              "    .dataframe tbody tr th {\n",
              "        vertical-align: top;\n",
              "    }\n",
              "\n",
              "    .dataframe thead th {\n",
              "        text-align: right;\n",
              "    }\n",
              "</style>\n",
              "<table border=\"1\" class=\"dataframe\">\n",
              "  <thead>\n",
              "    <tr style=\"text-align: right;\">\n",
              "      <th></th>\n",
              "      <th>gender</th>\n",
              "      <th>SeniorCitizen</th>\n",
              "      <th>Partner</th>\n",
              "      <th>Dependents</th>\n",
              "      <th>tenure</th>\n",
              "      <th>PhoneService</th>\n",
              "      <th>MultipleLines</th>\n",
              "      <th>InternetService</th>\n",
              "      <th>OnlineSecurity</th>\n",
              "      <th>OnlineBackup</th>\n",
              "      <th>DeviceProtection</th>\n",
              "      <th>TechSupport</th>\n",
              "      <th>StreamingTV</th>\n",
              "      <th>StreamingMovies</th>\n",
              "      <th>Contract</th>\n",
              "      <th>PaperlessBilling</th>\n",
              "      <th>PaymentMethod</th>\n",
              "      <th>MonthlyCharges</th>\n",
              "      <th>TotalCharges</th>\n",
              "      <th>Churn</th>\n",
              "    </tr>\n",
              "  </thead>\n",
              "  <tbody>\n",
              "    <tr>\n",
              "      <th>0</th>\n",
              "      <td>0</td>\n",
              "      <td>0</td>\n",
              "      <td>1</td>\n",
              "      <td>0</td>\n",
              "      <td>1</td>\n",
              "      <td>0</td>\n",
              "      <td>0</td>\n",
              "      <td>DSL</td>\n",
              "      <td>0</td>\n",
              "      <td>1</td>\n",
              "      <td>0</td>\n",
              "      <td>0</td>\n",
              "      <td>0</td>\n",
              "      <td>0</td>\n",
              "      <td>Month-to-month</td>\n",
              "      <td>1</td>\n",
              "      <td>Electronic check</td>\n",
              "      <td>29,85</td>\n",
              "      <td>29,85</td>\n",
              "      <td>0</td>\n",
              "    </tr>\n",
              "    <tr>\n",
              "      <th>1</th>\n",
              "      <td>1</td>\n",
              "      <td>0</td>\n",
              "      <td>0</td>\n",
              "      <td>0</td>\n",
              "      <td>34</td>\n",
              "      <td>1</td>\n",
              "      <td>0</td>\n",
              "      <td>DSL</td>\n",
              "      <td>1</td>\n",
              "      <td>0</td>\n",
              "      <td>1</td>\n",
              "      <td>0</td>\n",
              "      <td>0</td>\n",
              "      <td>0</td>\n",
              "      <td>One year</td>\n",
              "      <td>0</td>\n",
              "      <td>Mailed check</td>\n",
              "      <td>56,95</td>\n",
              "      <td>1889,5</td>\n",
              "      <td>0</td>\n",
              "    </tr>\n",
              "    <tr>\n",
              "      <th>2</th>\n",
              "      <td>1</td>\n",
              "      <td>0</td>\n",
              "      <td>0</td>\n",
              "      <td>0</td>\n",
              "      <td>45</td>\n",
              "      <td>0</td>\n",
              "      <td>0</td>\n",
              "      <td>DSL</td>\n",
              "      <td>1</td>\n",
              "      <td>0</td>\n",
              "      <td>1</td>\n",
              "      <td>1</td>\n",
              "      <td>0</td>\n",
              "      <td>0</td>\n",
              "      <td>One year</td>\n",
              "      <td>0</td>\n",
              "      <td>Bank transfer (automatic)</td>\n",
              "      <td>42,3</td>\n",
              "      <td>1840,75</td>\n",
              "      <td>0</td>\n",
              "    </tr>\n",
              "    <tr>\n",
              "      <th>3</th>\n",
              "      <td>1</td>\n",
              "      <td>0</td>\n",
              "      <td>0</td>\n",
              "      <td>1</td>\n",
              "      <td>22</td>\n",
              "      <td>1</td>\n",
              "      <td>1</td>\n",
              "      <td>Fiber optic</td>\n",
              "      <td>0</td>\n",
              "      <td>1</td>\n",
              "      <td>0</td>\n",
              "      <td>0</td>\n",
              "      <td>1</td>\n",
              "      <td>0</td>\n",
              "      <td>Month-to-month</td>\n",
              "      <td>1</td>\n",
              "      <td>Credit card (automatic)</td>\n",
              "      <td>89,1</td>\n",
              "      <td>1949,4</td>\n",
              "      <td>0</td>\n",
              "    </tr>\n",
              "    <tr>\n",
              "      <th>4</th>\n",
              "      <td>0</td>\n",
              "      <td>0</td>\n",
              "      <td>0</td>\n",
              "      <td>0</td>\n",
              "      <td>10</td>\n",
              "      <td>0</td>\n",
              "      <td>0</td>\n",
              "      <td>DSL</td>\n",
              "      <td>1</td>\n",
              "      <td>0</td>\n",
              "      <td>0</td>\n",
              "      <td>0</td>\n",
              "      <td>0</td>\n",
              "      <td>0</td>\n",
              "      <td>Month-to-month</td>\n",
              "      <td>0</td>\n",
              "      <td>Mailed check</td>\n",
              "      <td>29,75</td>\n",
              "      <td>301,9</td>\n",
              "      <td>0</td>\n",
              "    </tr>\n",
              "  </tbody>\n",
              "</table>\n",
              "</div>\n",
              "      <button class=\"colab-df-convert\" onclick=\"convertToInteractive('df-5085f621-4f39-45c6-ac90-82674e11b84e')\"\n",
              "              title=\"Convert this dataframe to an interactive table.\"\n",
              "              style=\"display:none;\">\n",
              "        \n",
              "  <svg xmlns=\"http://www.w3.org/2000/svg\" height=\"24px\"viewBox=\"0 0 24 24\"\n",
              "       width=\"24px\">\n",
              "    <path d=\"M0 0h24v24H0V0z\" fill=\"none\"/>\n",
              "    <path d=\"M18.56 5.44l.94 2.06.94-2.06 2.06-.94-2.06-.94-.94-2.06-.94 2.06-2.06.94zm-11 1L8.5 8.5l.94-2.06 2.06-.94-2.06-.94L8.5 2.5l-.94 2.06-2.06.94zm10 10l.94 2.06.94-2.06 2.06-.94-2.06-.94-.94-2.06-.94 2.06-2.06.94z\"/><path d=\"M17.41 7.96l-1.37-1.37c-.4-.4-.92-.59-1.43-.59-.52 0-1.04.2-1.43.59L10.3 9.45l-7.72 7.72c-.78.78-.78 2.05 0 2.83L4 21.41c.39.39.9.59 1.41.59.51 0 1.02-.2 1.41-.59l7.78-7.78 2.81-2.81c.8-.78.8-2.07 0-2.86zM5.41 20L4 18.59l7.72-7.72 1.47 1.35L5.41 20z\"/>\n",
              "  </svg>\n",
              "      </button>\n",
              "      \n",
              "  <style>\n",
              "    .colab-df-container {\n",
              "      display:flex;\n",
              "      flex-wrap:wrap;\n",
              "      gap: 12px;\n",
              "    }\n",
              "\n",
              "    .colab-df-convert {\n",
              "      background-color: #E8F0FE;\n",
              "      border: none;\n",
              "      border-radius: 50%;\n",
              "      cursor: pointer;\n",
              "      display: none;\n",
              "      fill: #1967D2;\n",
              "      height: 32px;\n",
              "      padding: 0 0 0 0;\n",
              "      width: 32px;\n",
              "    }\n",
              "\n",
              "    .colab-df-convert:hover {\n",
              "      background-color: #E2EBFA;\n",
              "      box-shadow: 0px 1px 2px rgba(60, 64, 67, 0.3), 0px 1px 3px 1px rgba(60, 64, 67, 0.15);\n",
              "      fill: #174EA6;\n",
              "    }\n",
              "\n",
              "    [theme=dark] .colab-df-convert {\n",
              "      background-color: #3B4455;\n",
              "      fill: #D2E3FC;\n",
              "    }\n",
              "\n",
              "    [theme=dark] .colab-df-convert:hover {\n",
              "      background-color: #434B5C;\n",
              "      box-shadow: 0px 1px 3px 1px rgba(0, 0, 0, 0.15);\n",
              "      filter: drop-shadow(0px 1px 2px rgba(0, 0, 0, 0.3));\n",
              "      fill: #FFFFFF;\n",
              "    }\n",
              "  </style>\n",
              "\n",
              "      <script>\n",
              "        const buttonEl =\n",
              "          document.querySelector('#df-5085f621-4f39-45c6-ac90-82674e11b84e button.colab-df-convert');\n",
              "        buttonEl.style.display =\n",
              "          google.colab.kernel.accessAllowed ? 'block' : 'none';\n",
              "\n",
              "        async function convertToInteractive(key) {\n",
              "          const element = document.querySelector('#df-5085f621-4f39-45c6-ac90-82674e11b84e');\n",
              "          const dataTable =\n",
              "            await google.colab.kernel.invokeFunction('convertToInteractive',\n",
              "                                                     [key], {});\n",
              "          if (!dataTable) return;\n",
              "\n",
              "          const docLinkHtml = 'Like what you see? Visit the ' +\n",
              "            '<a target=\"_blank\" href=https://colab.research.google.com/notebooks/data_table.ipynb>data table notebook</a>'\n",
              "            + ' to learn more about interactive tables.';\n",
              "          element.innerHTML = '';\n",
              "          dataTable['output_type'] = 'display_data';\n",
              "          await google.colab.output.renderOutput(dataTable, element);\n",
              "          const docLink = document.createElement('div');\n",
              "          docLink.innerHTML = docLinkHtml;\n",
              "          element.appendChild(docLink);\n",
              "        }\n",
              "      </script>\n",
              "    </div>\n",
              "  </div>\n",
              "  "
            ]
          },
          "metadata": {},
          "execution_count": 18
        }
      ]
    },
    {
      "cell_type": "markdown",
      "source": [
        "### Turning columns with numerical data into numerical (floats)"
      ],
      "metadata": {
        "id": "ZLBhBTYexIZR"
      }
    },
    {
      "cell_type": "code",
      "source": [
        "\n",
        "data['MonthlyCharges'] = data['MonthlyCharges'].apply(lambda x: str(x).replace(',', '.'))\n",
        "data['TotalCharges'] = data['TotalCharges'].apply(lambda x: str(x).replace(',', '.'))\n",
        "\n",
        "data['MonthlyCharges'] = data['MonthlyCharges'].astype(float, errors = 'raise')\n",
        "data['TotalCharges'] = data['TotalCharges'].astype(float, errors = 'raise')"
      ],
      "metadata": {
        "id": "5YXff1w1xNLR"
      },
      "execution_count": 19,
      "outputs": []
    },
    {
      "cell_type": "markdown",
      "source": [
        "### Checking the datatypes of the dataset"
      ],
      "metadata": {
        "id": "goOmCnnmxPMy"
      }
    },
    {
      "cell_type": "code",
      "source": [
        "data_type_python = pd.DataFrame(data.dtypes).T.rename({0:'python data types'})\n",
        "data_type_python"
      ],
      "metadata": {
        "colab": {
          "base_uri": "https://localhost:8080/",
          "height": 178
        },
        "id": "U2mVmDAfxQ7U",
        "outputId": "9c6e550d-9f6f-4b25-8c2f-2c7c89ffe430"
      },
      "execution_count": 20,
      "outputs": [
        {
          "output_type": "execute_result",
          "data": {
            "text/plain": [
              "                  gender SeniorCitizen Partner Dependents tenure PhoneService  \\\n",
              "python data types  int64         int64   int64      int64  int64        int64   \n",
              "\n",
              "                  MultipleLines InternetService OnlineSecurity OnlineBackup  \\\n",
              "python data types         int64          object          int64        int64   \n",
              "\n",
              "                  DeviceProtection TechSupport StreamingTV StreamingMovies  \\\n",
              "python data types            int64       int64       int64           int64   \n",
              "\n",
              "                  Contract PaperlessBilling PaymentMethod MonthlyCharges  \\\n",
              "python data types   object            int64        object        float64   \n",
              "\n",
              "                  TotalCharges  Churn  \n",
              "python data types      float64  int64  "
            ],
            "text/html": [
              "\n",
              "  <div id=\"df-e7cc9abc-2d15-4d56-8b55-4b51b0578ae8\">\n",
              "    <div class=\"colab-df-container\">\n",
              "      <div>\n",
              "<style scoped>\n",
              "    .dataframe tbody tr th:only-of-type {\n",
              "        vertical-align: middle;\n",
              "    }\n",
              "\n",
              "    .dataframe tbody tr th {\n",
              "        vertical-align: top;\n",
              "    }\n",
              "\n",
              "    .dataframe thead th {\n",
              "        text-align: right;\n",
              "    }\n",
              "</style>\n",
              "<table border=\"1\" class=\"dataframe\">\n",
              "  <thead>\n",
              "    <tr style=\"text-align: right;\">\n",
              "      <th></th>\n",
              "      <th>gender</th>\n",
              "      <th>SeniorCitizen</th>\n",
              "      <th>Partner</th>\n",
              "      <th>Dependents</th>\n",
              "      <th>tenure</th>\n",
              "      <th>PhoneService</th>\n",
              "      <th>MultipleLines</th>\n",
              "      <th>InternetService</th>\n",
              "      <th>OnlineSecurity</th>\n",
              "      <th>OnlineBackup</th>\n",
              "      <th>DeviceProtection</th>\n",
              "      <th>TechSupport</th>\n",
              "      <th>StreamingTV</th>\n",
              "      <th>StreamingMovies</th>\n",
              "      <th>Contract</th>\n",
              "      <th>PaperlessBilling</th>\n",
              "      <th>PaymentMethod</th>\n",
              "      <th>MonthlyCharges</th>\n",
              "      <th>TotalCharges</th>\n",
              "      <th>Churn</th>\n",
              "    </tr>\n",
              "  </thead>\n",
              "  <tbody>\n",
              "    <tr>\n",
              "      <th>python data types</th>\n",
              "      <td>int64</td>\n",
              "      <td>int64</td>\n",
              "      <td>int64</td>\n",
              "      <td>int64</td>\n",
              "      <td>int64</td>\n",
              "      <td>int64</td>\n",
              "      <td>int64</td>\n",
              "      <td>object</td>\n",
              "      <td>int64</td>\n",
              "      <td>int64</td>\n",
              "      <td>int64</td>\n",
              "      <td>int64</td>\n",
              "      <td>int64</td>\n",
              "      <td>int64</td>\n",
              "      <td>object</td>\n",
              "      <td>int64</td>\n",
              "      <td>object</td>\n",
              "      <td>float64</td>\n",
              "      <td>float64</td>\n",
              "      <td>int64</td>\n",
              "    </tr>\n",
              "  </tbody>\n",
              "</table>\n",
              "</div>\n",
              "      <button class=\"colab-df-convert\" onclick=\"convertToInteractive('df-e7cc9abc-2d15-4d56-8b55-4b51b0578ae8')\"\n",
              "              title=\"Convert this dataframe to an interactive table.\"\n",
              "              style=\"display:none;\">\n",
              "        \n",
              "  <svg xmlns=\"http://www.w3.org/2000/svg\" height=\"24px\"viewBox=\"0 0 24 24\"\n",
              "       width=\"24px\">\n",
              "    <path d=\"M0 0h24v24H0V0z\" fill=\"none\"/>\n",
              "    <path d=\"M18.56 5.44l.94 2.06.94-2.06 2.06-.94-2.06-.94-.94-2.06-.94 2.06-2.06.94zm-11 1L8.5 8.5l.94-2.06 2.06-.94-2.06-.94L8.5 2.5l-.94 2.06-2.06.94zm10 10l.94 2.06.94-2.06 2.06-.94-2.06-.94-.94-2.06-.94 2.06-2.06.94z\"/><path d=\"M17.41 7.96l-1.37-1.37c-.4-.4-.92-.59-1.43-.59-.52 0-1.04.2-1.43.59L10.3 9.45l-7.72 7.72c-.78.78-.78 2.05 0 2.83L4 21.41c.39.39.9.59 1.41.59.51 0 1.02-.2 1.41-.59l7.78-7.78 2.81-2.81c.8-.78.8-2.07 0-2.86zM5.41 20L4 18.59l7.72-7.72 1.47 1.35L5.41 20z\"/>\n",
              "  </svg>\n",
              "      </button>\n",
              "      \n",
              "  <style>\n",
              "    .colab-df-container {\n",
              "      display:flex;\n",
              "      flex-wrap:wrap;\n",
              "      gap: 12px;\n",
              "    }\n",
              "\n",
              "    .colab-df-convert {\n",
              "      background-color: #E8F0FE;\n",
              "      border: none;\n",
              "      border-radius: 50%;\n",
              "      cursor: pointer;\n",
              "      display: none;\n",
              "      fill: #1967D2;\n",
              "      height: 32px;\n",
              "      padding: 0 0 0 0;\n",
              "      width: 32px;\n",
              "    }\n",
              "\n",
              "    .colab-df-convert:hover {\n",
              "      background-color: #E2EBFA;\n",
              "      box-shadow: 0px 1px 2px rgba(60, 64, 67, 0.3), 0px 1px 3px 1px rgba(60, 64, 67, 0.15);\n",
              "      fill: #174EA6;\n",
              "    }\n",
              "\n",
              "    [theme=dark] .colab-df-convert {\n",
              "      background-color: #3B4455;\n",
              "      fill: #D2E3FC;\n",
              "    }\n",
              "\n",
              "    [theme=dark] .colab-df-convert:hover {\n",
              "      background-color: #434B5C;\n",
              "      box-shadow: 0px 1px 3px 1px rgba(0, 0, 0, 0.15);\n",
              "      filter: drop-shadow(0px 1px 2px rgba(0, 0, 0, 0.3));\n",
              "      fill: #FFFFFF;\n",
              "    }\n",
              "  </style>\n",
              "\n",
              "      <script>\n",
              "        const buttonEl =\n",
              "          document.querySelector('#df-e7cc9abc-2d15-4d56-8b55-4b51b0578ae8 button.colab-df-convert');\n",
              "        buttonEl.style.display =\n",
              "          google.colab.kernel.accessAllowed ? 'block' : 'none';\n",
              "\n",
              "        async function convertToInteractive(key) {\n",
              "          const element = document.querySelector('#df-e7cc9abc-2d15-4d56-8b55-4b51b0578ae8');\n",
              "          const dataTable =\n",
              "            await google.colab.kernel.invokeFunction('convertToInteractive',\n",
              "                                                     [key], {});\n",
              "          if (!dataTable) return;\n",
              "\n",
              "          const docLinkHtml = 'Like what you see? Visit the ' +\n",
              "            '<a target=\"_blank\" href=https://colab.research.google.com/notebooks/data_table.ipynb>data table notebook</a>'\n",
              "            + ' to learn more about interactive tables.';\n",
              "          element.innerHTML = '';\n",
              "          dataTable['output_type'] = 'display_data';\n",
              "          await google.colab.output.renderOutput(dataTable, element);\n",
              "          const docLink = document.createElement('div');\n",
              "          docLink.innerHTML = docLinkHtml;\n",
              "          element.appendChild(docLink);\n",
              "        }\n",
              "      </script>\n",
              "    </div>\n",
              "  </div>\n",
              "  "
            ]
          },
          "metadata": {},
          "execution_count": 20
        }
      ]
    },
    {
      "cell_type": "markdown",
      "source": [
        "### Handle categorical columns"
      ],
      "metadata": {
        "id": "Y2TZE708xSX1"
      }
    },
    {
      "cell_type": "code",
      "source": [
        "\n",
        " # Simple function to check if a column is categorical  \n",
        "def is_categorical(array_like):\n",
        "    return array_like.dtype.name == 'category'\n",
        "\n",
        "# All categorical columns\n",
        "object_cols = [col for col in data.columns if data[col].dtype == \"object\"\n",
        "               or is_categorical(data[col])]\n",
        "\n",
        "# Columns that will be one-hot encoded (less than 10 unique values)\n",
        "categorical_cols = [col for col in object_cols if data[col].nunique() < 10]\n",
        "categorical_cols\n"
      ],
      "metadata": {
        "colab": {
          "base_uri": "https://localhost:8080/"
        },
        "id": "_dcwqPxXxUNn",
        "outputId": "a8050141-ee2c-4279-c1ff-882830a48d36"
      },
      "execution_count": 21,
      "outputs": [
        {
          "output_type": "execute_result",
          "data": {
            "text/plain": [
              "['InternetService', 'Contract', 'PaymentMethod']"
            ]
          },
          "metadata": {},
          "execution_count": 21
        }
      ]
    },
    {
      "cell_type": "markdown",
      "source": [
        "## Make a ColumnTransformer to preprocess rest of the data"
      ],
      "metadata": {
        "id": "OUvybw4mxVl5"
      }
    },
    {
      "cell_type": "markdown",
      "source": [
        "### Standard scale the numeric data and one hot encode the categorical data"
      ],
      "metadata": {
        "id": "_0QW9rJDxXQC"
      }
    },
    {
      "cell_type": "code",
      "source": [
        "numeric_transformer = Pipeline(steps=[\n",
        "    ('imputer', SimpleImputer(strategy='median')),\n",
        "    ('scaler', StandardScaler())])\n",
        "    \n",
        "categorical_transformer = Pipeline(steps=[\n",
        "    ('imputer', SimpleImputer(strategy='constant', fill_value='missing')),\n",
        "    ('onehot', OneHotEncoder(handle_unknown='ignore'))])"
      ],
      "metadata": {
        "id": "wjviFSy1xYsm"
      },
      "execution_count": 22,
      "outputs": []
    },
    {
      "cell_type": "markdown",
      "source": [
        "### Put togheter the preprocessor"
      ],
      "metadata": {
        "id": "_hI8mMJexaZP"
      }
    },
    {
      "cell_type": "code",
      "source": [
        "numeric_features = ['tenure', 'MonthlyCharges', 'TotalCharges']\n",
        "categorical_features = categorical_cols\n",
        "\n",
        "preprocessor = ColumnTransformer(\n",
        "    transformers=[\n",
        "        ('num', numeric_transformer, numeric_features),\n",
        "        ('cat', categorical_transformer, categorical_features)])"
      ],
      "metadata": {
        "id": "ppy1nzvRxbrm"
      },
      "execution_count": 23,
      "outputs": []
    },
    {
      "cell_type": "markdown",
      "source": [
        "### Making the features and the target"
      ],
      "metadata": {
        "id": "L2IRR8f5xdF0"
      }
    },
    {
      "cell_type": "code",
      "source": [
        "X = data.drop('Churn', axis=1)\n",
        "y = data['Churn']"
      ],
      "metadata": {
        "id": "huGo7oLAxedo"
      },
      "execution_count": 24,
      "outputs": []
    },
    {
      "cell_type": "code",
      "source": [
        "X.info()"
      ],
      "metadata": {
        "colab": {
          "base_uri": "https://localhost:8080/"
        },
        "id": "UkY5O4vCxfuf",
        "outputId": "620e1a20-1e4f-4238-fcff-84304ca51e18"
      },
      "execution_count": 25,
      "outputs": [
        {
          "output_type": "stream",
          "name": "stdout",
          "text": [
            "<class 'pandas.core.frame.DataFrame'>\n",
            "RangeIndex: 5374 entries, 0 to 5373\n",
            "Data columns (total 19 columns):\n",
            " #   Column            Non-Null Count  Dtype  \n",
            "---  ------            --------------  -----  \n",
            " 0   gender            5374 non-null   int64  \n",
            " 1   SeniorCitizen     5374 non-null   int64  \n",
            " 2   Partner           5374 non-null   int64  \n",
            " 3   Dependents        5374 non-null   int64  \n",
            " 4   tenure            5374 non-null   int64  \n",
            " 5   PhoneService      5374 non-null   int64  \n",
            " 6   MultipleLines     5374 non-null   int64  \n",
            " 7   InternetService   5374 non-null   object \n",
            " 8   OnlineSecurity    5374 non-null   int64  \n",
            " 9   OnlineBackup      5374 non-null   int64  \n",
            " 10  DeviceProtection  5374 non-null   int64  \n",
            " 11  TechSupport       5374 non-null   int64  \n",
            " 12  StreamingTV       5374 non-null   int64  \n",
            " 13  StreamingMovies   5374 non-null   int64  \n",
            " 14  Contract          5374 non-null   object \n",
            " 15  PaperlessBilling  5374 non-null   int64  \n",
            " 16  PaymentMethod     5374 non-null   object \n",
            " 17  MonthlyCharges    5374 non-null   float64\n",
            " 18  TotalCharges      5374 non-null   float64\n",
            "dtypes: float64(2), int64(14), object(3)\n",
            "memory usage: 797.8+ KB\n"
          ]
        }
      ]
    },
    {
      "cell_type": "markdown",
      "source": [
        "## Machine Learning part more or less starts here"
      ],
      "metadata": {
        "id": "-qawOahBxgvX"
      }
    },
    {
      "cell_type": "markdown",
      "source": [
        "### Preprocess the data"
      ],
      "metadata": {
        "id": "9Dh5yaKgxlkt"
      }
    },
    {
      "cell_type": "code",
      "source": [
        "X = preprocessor.fit_transform(X)"
      ],
      "metadata": {
        "id": "Li88t2-uxnPT"
      },
      "execution_count": 26,
      "outputs": []
    },
    {
      "cell_type": "markdown",
      "source": [
        "### Splitting up data to train and test sets"
      ],
      "metadata": {
        "id": "Secy1PZ4xo_H"
      }
    },
    {
      "cell_type": "code",
      "source": [
        "X_train, X_test, y_train, y_test = train_test_split(X, y, test_size=0.2, random_state=0)"
      ],
      "metadata": {
        "id": "C6iTQXJKxrXe"
      },
      "execution_count": 27,
      "outputs": []
    },
    {
      "cell_type": "markdown",
      "source": [
        "## Set up of different classifiers to see which one matches the problem the best"
      ],
      "metadata": {
        "id": "CxvC7P1wxs_U"
      }
    },
    {
      "cell_type": "markdown",
      "source": [
        "### Combining test of more \"regular\" classifiers not based on deep learning "
      ],
      "metadata": {
        "id": "aLgChGtLyUgp"
      }
    },
    {
      "cell_type": "code",
      "source": [
        "classifiers = [\n",
        "    KNeighborsClassifier(3),\n",
        "    SVC(kernel=\"rbf\", C=0.1, gamma=1, probability=True, random_state=0),\n",
        "    DecisionTreeClassifier(random_state=0),\n",
        "    RandomForestClassifier(n_estimators=100, random_state=0),\n",
        "    AdaBoostClassifier(n_estimators=50, random_state=0),\n",
        "    AdaBoostClassifier(n_estimators=600, learning_rate=0.1, random_state=0),\n",
        "    GradientBoostingClassifier(learning_rate=0.1, max_depth=1, n_estimators=50, random_state=0),\n",
        "    xgb.XGBClassifier(use_label_encoder=False, eval_metric='logloss', colsample_bytree=0.6, gamma=0.5, max_depth=3,\n",
        "        min_child_weight=1, n_estimators=300, subsample=0.8)\n",
        "    ]"
      ],
      "metadata": {
        "id": "R0Ik0tHayVd2"
      },
      "execution_count": 28,
      "outputs": []
    },
    {
      "cell_type": "markdown",
      "source": [
        "#### Making prediction and calculate which model is the better one"
      ],
      "metadata": {
        "id": "JdI6z5j4yYOR"
      }
    },
    {
      "cell_type": "code",
      "source": [
        "# Plotting a figure of width 6 and height 3\n",
        "plt_1 = plt.figure(figsize=(12, 9))\n",
        "\n",
        "ax = plt.gca()\n",
        "\n",
        "for classifier in classifiers:\n",
        "\n",
        "    classifier.fit(X_train, y_train)\n",
        "\n",
        "    print(\"\\n\" + str(classifier))\n",
        "    print(\"model score: %.3f\" % classifier.score(X_test, y_test))\n",
        "\n",
        "    print ('===========================')\n",
        "    y_pred = classifier.predict(X_test)\n",
        "    cm = confusion_matrix(y_test, y_pred)\n",
        "    print(cm)\n",
        "    print(classification_report(y_test, y_pred, zero_division=0))\n",
        "\n",
        "    print ('===========================')\n",
        "    clf_disp = RocCurveDisplay.from_estimator(classifier, X_test, y_test, ax=ax)\n",
        "\n",
        "plt.show()"
      ],
      "metadata": {
        "colab": {
          "base_uri": "https://localhost:8080/",
          "height": 1000
        },
        "id": "0wTgJRnuyYnd",
        "outputId": "863cb275-637f-44f9-cb07-6a8bbbd9d2c1"
      },
      "execution_count": 29,
      "outputs": [
        {
          "output_type": "stream",
          "name": "stdout",
          "text": [
            "\n",
            "KNeighborsClassifier(n_neighbors=3)\n",
            "model score: 0.958\n",
            "===========================\n",
            "[[1030    7]\n",
            " [  38    0]]\n",
            "              precision    recall  f1-score   support\n",
            "\n",
            "           0       0.96      0.99      0.98      1037\n",
            "           1       0.00      0.00      0.00        38\n",
            "\n",
            "    accuracy                           0.96      1075\n",
            "   macro avg       0.48      0.50      0.49      1075\n",
            "weighted avg       0.93      0.96      0.94      1075\n",
            "\n",
            "===========================\n",
            "\n",
            "SVC(C=0.1, gamma=1, probability=True, random_state=0)\n",
            "model score: 0.965\n",
            "===========================\n",
            "[[1037    0]\n",
            " [  38    0]]\n",
            "              precision    recall  f1-score   support\n",
            "\n",
            "           0       0.96      1.00      0.98      1037\n",
            "           1       0.00      0.00      0.00        38\n",
            "\n",
            "    accuracy                           0.96      1075\n",
            "   macro avg       0.48      0.50      0.49      1075\n",
            "weighted avg       0.93      0.96      0.95      1075\n",
            "\n",
            "===========================\n",
            "\n",
            "DecisionTreeClassifier(random_state=0)\n",
            "model score: 0.927\n",
            "===========================\n",
            "[[993  44]\n",
            " [ 34   4]]\n",
            "              precision    recall  f1-score   support\n",
            "\n",
            "           0       0.97      0.96      0.96      1037\n",
            "           1       0.08      0.11      0.09        38\n",
            "\n",
            "    accuracy                           0.93      1075\n",
            "   macro avg       0.53      0.53      0.53      1075\n",
            "weighted avg       0.94      0.93      0.93      1075\n",
            "\n",
            "===========================\n",
            "\n",
            "RandomForestClassifier(random_state=0)\n",
            "model score: 0.957\n",
            "===========================\n",
            "[[1029    8]\n",
            " [  38    0]]\n",
            "              precision    recall  f1-score   support\n",
            "\n",
            "           0       0.96      0.99      0.98      1037\n",
            "           1       0.00      0.00      0.00        38\n",
            "\n",
            "    accuracy                           0.96      1075\n",
            "   macro avg       0.48      0.50      0.49      1075\n",
            "weighted avg       0.93      0.96      0.94      1075\n",
            "\n",
            "===========================\n",
            "\n",
            "AdaBoostClassifier(random_state=0)\n",
            "model score: 0.965\n",
            "===========================\n",
            "[[1037    0]\n",
            " [  38    0]]\n",
            "              precision    recall  f1-score   support\n",
            "\n",
            "           0       0.96      1.00      0.98      1037\n",
            "           1       0.00      0.00      0.00        38\n",
            "\n",
            "    accuracy                           0.96      1075\n",
            "   macro avg       0.48      0.50      0.49      1075\n",
            "weighted avg       0.93      0.96      0.95      1075\n",
            "\n",
            "===========================\n",
            "\n",
            "AdaBoostClassifier(learning_rate=0.1, n_estimators=600, random_state=0)\n",
            "model score: 0.965\n",
            "===========================\n",
            "[[1037    0]\n",
            " [  38    0]]\n",
            "              precision    recall  f1-score   support\n",
            "\n",
            "           0       0.96      1.00      0.98      1037\n",
            "           1       0.00      0.00      0.00        38\n",
            "\n",
            "    accuracy                           0.96      1075\n",
            "   macro avg       0.48      0.50      0.49      1075\n",
            "weighted avg       0.93      0.96      0.95      1075\n",
            "\n",
            "===========================\n",
            "\n",
            "GradientBoostingClassifier(max_depth=1, n_estimators=50, random_state=0)\n",
            "model score: 0.965\n",
            "===========================\n",
            "[[1037    0]\n",
            " [  38    0]]\n",
            "              precision    recall  f1-score   support\n",
            "\n",
            "           0       0.96      1.00      0.98      1037\n",
            "           1       0.00      0.00      0.00        38\n",
            "\n",
            "    accuracy                           0.96      1075\n",
            "   macro avg       0.48      0.50      0.49      1075\n",
            "weighted avg       0.93      0.96      0.95      1075\n",
            "\n",
            "===========================\n",
            "\n",
            "XGBClassifier(colsample_bytree=0.6, eval_metric='logloss', gamma=0.5,\n",
            "              n_estimators=300, subsample=0.8, use_label_encoder=False)\n",
            "model score: 0.964\n",
            "===========================\n",
            "[[1035    2]\n",
            " [  37    1]]\n",
            "              precision    recall  f1-score   support\n",
            "\n",
            "           0       0.97      1.00      0.98      1037\n",
            "           1       0.33      0.03      0.05        38\n",
            "\n",
            "    accuracy                           0.96      1075\n",
            "   macro avg       0.65      0.51      0.52      1075\n",
            "weighted avg       0.94      0.96      0.95      1075\n",
            "\n",
            "===========================\n"
          ]
        },
        {
          "output_type": "display_data",
          "data": {
            "text/plain": [
              "<Figure size 864x648 with 1 Axes>"
            ],
            "image/png": "[encoded data removed]"
          },
          "metadata": {
            "needs_background": "light"
          }
        }
      ]
    },
    {
      "cell_type": "markdown",
      "source": [
        "### Fine tuning of the classifiers\n",
        "Due to time consuming it has been commented out. If interested run each classifier by itself"
      ],
      "metadata": {
        "id": "yHQqbSGhyg92"
      }
    },
    {
      "cell_type": "code",
      "source": [
        "# clf = xgb.XGBClassifier(learning_rate=0.02, objective='binary:logistic',\n",
        "#                     silent=True, nthread=1, use_label_encoder=False, eval_metric='logloss')\n",
        "\n",
        "# clf = AdaBoostClassifier(random_state=0)\n",
        "\n",
        "# clf = GradientBoostingClassifier(random_state=0)\n",
        "\n",
        "# #########################\n",
        "\n",
        "# clf_pipe = Pipeline(steps=\n",
        "#     [\n",
        "#         ('preprocessor', preprocessor), \n",
        "#         ('clf', clf)\n",
        "#     ]\n",
        "# )\n",
        "\n",
        "############################\n",
        "\n",
        "# SVC\n",
        "# parameters = [\n",
        "#     {\n",
        "#         'clf__kernel': [\"rbf\", \"linear\", \"poly\", \"sigmoid\"],\n",
        "#         'clf__C': [0.1, 1, 2, 3, 5, 10, 100],\n",
        "#         'clf__gamma': [1, 0.1, 0.01, 0.001],\n",
        "#     }\n",
        "# ]\n",
        "\n",
        "# # XGB\n",
        "# parameters = [\n",
        "#     {\n",
        "#         'clf__min_child_weight': [1, 5, 10],\n",
        "#         'clf__n_estimators': [50, 100, 300, 600],\n",
        "#         'clf__gamma': [0.5, 1, 1.5, 2, 5],\n",
        "#         'clf__subsample': [0.6, 0.8, 1.0],\n",
        "#         'clf__colsample_bytree': [0.6, 0.8, 1.0],\n",
        "#         'clf__max_depth': [3, 4, 5]\n",
        "#     }\n",
        "# ] \n",
        "# \n",
        "\n",
        "# AdaBoostClassifier\n",
        "# parameters = [\n",
        "#     {\n",
        "#         'clf__learning_rate': [0.1, 0.5, 1],\n",
        "#         'clf__n_estimators': [50, 100, 300, 600],\n",
        "#     }\n",
        "# ] \n",
        "\n",
        "\n",
        "# # GradientBoostingClassifier\n",
        "# parameters = [\n",
        "#     {\n",
        "#         #'clf__learning_rate': [0.1, 0.5, 1],\n",
        "#         'clf__n_estimators': [50, 100, 300, 600],\n",
        "#         # 'clf__subsample': [0.6, 0.8, 1.0],\n",
        "#         #'clf__max_depth': [1, 3, 5]\n",
        "#     }\n",
        "# ] \n",
        "\n",
        "\n",
        "#############################\n",
        "\n",
        "# # Type of scoring used to compare parameter combinations\n",
        "# acc_scorer = make_scorer(accuracy_score)\n",
        "\n",
        "# # Run the grid search\n",
        "# grid_obj = GridSearchCV(clf_pipe, parameters, scoring=acc_scorer, error_score='raise')\n",
        "\n",
        "#############################\n",
        "\n",
        "# grid_obj.fit(X_train, y_train)\n",
        "\n",
        "#############################\n",
        "\n",
        "# print(\"Best parameter (CV score=%0.3f):\" % grid_obj.best_score_)\n",
        "# print(grid_obj.best_params_)"
      ],
      "metadata": {
        "id": "tnhcYToNyhcl"
      },
      "execution_count": 30,
      "outputs": []
    },
    {
      "cell_type": "markdown",
      "source": [],
      "metadata": {
        "id": "gqiXO_K2xuoD"
      }
    },
    {
      "cell_type": "markdown",
      "source": [
        "## Result\n",
        "\n",
        "If looking at the validation of the models I would say the winner is the:<br>\n",
        "### GradientBoostingClassifier\n",
        "... But hey...<br>\n",
        "Maybe the dataset is not in balance. Let's check that out."
      ],
      "metadata": {
        "id": "CSJJ4zrlykWU"
      }
    },
    {
      "cell_type": "markdown",
      "source": [
        "## Check the imbalance of the target in the dataset"
      ],
      "metadata": {
        "id": "_fIRehG9ypLi"
      }
    },
    {
      "cell_type": "code",
      "source": [
        "# visualize the target variable\n",
        "g = sns.countplot(data['Churn'])\n",
        "g.set_xticklabels(['Not Churn','Churn'])\n",
        "plt.show()"
      ],
      "metadata": {
        "colab": {
          "base_uri": "https://localhost:8080/",
          "height": 333
        },
        "id": "f3h76L0Qyn1h",
        "outputId": "c1028983-42d8-4dc5-9a30-18ede68da458"
      },
      "execution_count": 31,
      "outputs": [
        {
          "output_type": "stream",
          "name": "stderr",
          "text": [
            "/usr/local/lib/python3.7/dist-packages/seaborn/_decorators.py:43: FutureWarning: Pass the following variable as a keyword arg: x. From version 0.12, the only valid positional argument will be `data`, and passing other arguments without an explicit keyword will result in an error or misinterpretation.\n",
            "  FutureWarning\n"
          ]
        },
        {
          "output_type": "display_data",
          "data": {
            "text/plain": [
              "<Figure size 432x288 with 1 Axes>"
            ],
            "image/png": "[encoded data removed]"
          },
          "metadata": {
            "needs_background": "light"
          }
        }
      ]
    },
    {
      "cell_type": "markdown",
      "source": [
        "### YES, the dataset is imbalanced\n",
        "Let start over and split up the already preprocessed data "
      ],
      "metadata": {
        "id": "2q82hkqWyu84"
      }
    },
    {
      "cell_type": "markdown",
      "source": [
        "## Handle the imbalance in the dataset\n",
        "Can be done with different technices. On the ones I tried (Under- and Over-sampling, SMOTE and NearMiss)<br>\n",
        "the SMOTE is the best one. Therefor the rest of them is commented out. "
      ],
      "metadata": {
        "id": "fcGIv5r6yvWC"
      }
    },
    {
      "cell_type": "markdown",
      "source": [
        "### Importing libraries"
      ],
      "metadata": {
        "id": "JIk1hK1gywfH"
      }
    },
    {
      "cell_type": "code",
      "source": [
        "from imblearn.under_sampling import RandomUnderSampler\n",
        "from imblearn.over_sampling import RandomOverSampler\n",
        "from imblearn.over_sampling import SMOTE\n",
        "from imblearn.under_sampling import NearMiss\n",
        "from collections import Counter"
      ],
      "metadata": {
        "id": "TpviyLJoyzNb"
      },
      "execution_count": 32,
      "outputs": []
    },
    {
      "cell_type": "markdown",
      "source": [
        "### SMOTE"
      ],
      "metadata": {
        "id": "HRIBXF1My1DP"
      }
    },
    {
      "cell_type": "code",
      "source": [
        "smote = SMOTE()\n",
        "X_smote, y_smote = smote.fit_resample(X, y)\n",
        "\n",
        "print('Original dataset shape', Counter(y))\n",
        "print('Resample dataset shape', Counter(y_smote))"
      ],
      "metadata": {
        "colab": {
          "base_uri": "https://localhost:8080/"
        },
        "id": "Wg2UFyU9y4gS",
        "outputId": "9f6d3c92-87eb-4b20-9e52-29f6c82c8379"
      },
      "execution_count": 33,
      "outputs": [
        {
          "output_type": "stream",
          "name": "stdout",
          "text": [
            "Original dataset shape Counter({0: 5174, 1: 200})\n",
            "Resample dataset shape Counter({0: 5174, 1: 5174})\n"
          ]
        }
      ]
    },
    {
      "cell_type": "markdown",
      "source": [
        "## Splitting up data to train and test sets... again...\n",
        "This time using the SMOTE values"
      ],
      "metadata": {
        "id": "vMQd063By6IP"
      }
    },
    {
      "cell_type": "code",
      "source": [
        "X_train, X_test, y_train, y_test = train_test_split(X_smote, y_smote, test_size=0.2, random_state=0)"
      ],
      "metadata": {
        "id": "mNgohLfNy9UC"
      },
      "execution_count": 34,
      "outputs": []
    },
    {
      "cell_type": "markdown",
      "source": [
        "### Again test the different classifiers to see which one matches the problem the best"
      ],
      "metadata": {
        "id": "O7YG4XQey_Nz"
      }
    },
    {
      "cell_type": "markdown",
      "source": [
        "### Without fine tuning (actually gave best scores)"
      ],
      "metadata": {
        "id": "m44UitauzCCL"
      }
    },
    {
      "cell_type": "code",
      "source": [
        "classifiers = [\n",
        "    KNeighborsClassifier(3),\n",
        "    SVC(kernel=\"rbf\", C=0.025, probability=True, class_weight='balanced', random_state=0),\n",
        "    DecisionTreeClassifier(random_state=0),\n",
        "    RandomForestClassifier(n_estimators=100, random_state=0),\n",
        "    AdaBoostClassifier(random_state=0),\n",
        "    GradientBoostingClassifier(random_state=0),\n",
        "    xgb.XGBClassifier(use_label_encoder=False, eval_metric='logloss')\n",
        "    ]\n"
      ],
      "metadata": {
        "id": "C3d_IBi5zDj5"
      },
      "execution_count": 35,
      "outputs": []
    },
    {
      "cell_type": "markdown",
      "source": [
        "### Making prediction and calculate which model is the better one"
      ],
      "metadata": {
        "id": "2NqT2XPuzF6h"
      }
    },
    {
      "cell_type": "code",
      "source": [
        "# Plotting a figure of width 6 and height 3\n",
        "plt_1 = plt.figure(figsize=(12, 9))\n",
        "\n",
        "ax = plt.gca()\n",
        "\n",
        "for classifier in classifiers:\n",
        "\n",
        "    classifier.fit(X_train, y_train)\n",
        "\n",
        "    print(\"\\n\" + str(classifier))\n",
        "    print(\"model score: %.3f\" % classifier.score(X_test, y_test))\n",
        "\n",
        "    print ('===========================')\n",
        "    y_pred = classifier.predict(X_test)\n",
        "    cm = confusion_matrix(y_test, y_pred)\n",
        "    print(cm)\n",
        "    print(classification_report(y_test, y_pred, zero_division=0))\n",
        "\n",
        "    print ('===========================')\n",
        "    clf_disp = RocCurveDisplay.from_estimator(classifier, X_test, y_test, ax=ax)\n",
        "\n",
        "plt.show()\n"
      ],
      "metadata": {
        "colab": {
          "base_uri": "https://localhost:8080/",
          "height": 1000
        },
        "id": "OxFjhlRPzHEi",
        "outputId": "a76e05e9-3a32-4ce5-82e9-ffc1b07afc23"
      },
      "execution_count": 37,
      "outputs": [
        {
          "output_type": "stream",
          "name": "stdout",
          "text": [
            "\n",
            "KNeighborsClassifier(n_neighbors=3)\n",
            "model score: 0.891\n",
            "===========================\n",
            "[[854 171]\n",
            " [ 54 991]]\n",
            "              precision    recall  f1-score   support\n",
            "\n",
            "           0       0.94      0.83      0.88      1025\n",
            "           1       0.85      0.95      0.90      1045\n",
            "\n",
            "    accuracy                           0.89      2070\n",
            "   macro avg       0.90      0.89      0.89      2070\n",
            "weighted avg       0.90      0.89      0.89      2070\n",
            "\n",
            "===========================\n",
            "\n",
            "SVC(C=0.025, class_weight='balanced', probability=True, random_state=0)\n",
            "model score: 0.766\n",
            "===========================\n",
            "[[732 293]\n",
            " [192 853]]\n",
            "              precision    recall  f1-score   support\n",
            "\n",
            "           0       0.79      0.71      0.75      1025\n",
            "           1       0.74      0.82      0.78      1045\n",
            "\n",
            "    accuracy                           0.77      2070\n",
            "   macro avg       0.77      0.77      0.76      2070\n",
            "weighted avg       0.77      0.77      0.77      2070\n",
            "\n",
            "===========================\n",
            "\n",
            "DecisionTreeClassifier(random_state=0)\n",
            "model score: 0.903\n",
            "===========================\n",
            "[[917 108]\n",
            " [ 93 952]]\n",
            "              precision    recall  f1-score   support\n",
            "\n",
            "           0       0.91      0.89      0.90      1025\n",
            "           1       0.90      0.91      0.90      1045\n",
            "\n",
            "    accuracy                           0.90      2070\n",
            "   macro avg       0.90      0.90      0.90      2070\n",
            "weighted avg       0.90      0.90      0.90      2070\n",
            "\n",
            "===========================\n",
            "\n",
            "RandomForestClassifier(random_state=0)\n",
            "model score: 0.914\n",
            "===========================\n",
            "[[915 110]\n",
            " [ 68 977]]\n",
            "              precision    recall  f1-score   support\n",
            "\n",
            "           0       0.93      0.89      0.91      1025\n",
            "           1       0.90      0.93      0.92      1045\n",
            "\n",
            "    accuracy                           0.91      2070\n",
            "   macro avg       0.91      0.91      0.91      2070\n",
            "weighted avg       0.91      0.91      0.91      2070\n",
            "\n",
            "===========================\n",
            "\n",
            "AdaBoostClassifier(random_state=0)\n",
            "model score: 0.815\n",
            "===========================\n",
            "[[740 285]\n",
            " [ 97 948]]\n",
            "              precision    recall  f1-score   support\n",
            "\n",
            "           0       0.88      0.72      0.79      1025\n",
            "           1       0.77      0.91      0.83      1045\n",
            "\n",
            "    accuracy                           0.82      2070\n",
            "   macro avg       0.83      0.81      0.81      2070\n",
            "weighted avg       0.83      0.82      0.81      2070\n",
            "\n",
            "===========================\n",
            "\n",
            "GradientBoostingClassifier(random_state=0)\n",
            "model score: 0.854\n",
            "===========================\n",
            "[[832 193]\n",
            " [110 935]]\n",
            "              precision    recall  f1-score   support\n",
            "\n",
            "           0       0.88      0.81      0.85      1025\n",
            "           1       0.83      0.89      0.86      1045\n",
            "\n",
            "    accuracy                           0.85      2070\n",
            "   macro avg       0.86      0.85      0.85      2070\n",
            "weighted avg       0.86      0.85      0.85      2070\n",
            "\n",
            "===========================\n",
            "\n",
            "XGBClassifier(eval_metric='logloss', use_label_encoder=False)\n",
            "model score: 0.847\n",
            "===========================\n",
            "[[821 204]\n",
            " [112 933]]\n",
            "              precision    recall  f1-score   support\n",
            "\n",
            "           0       0.88      0.80      0.84      1025\n",
            "           1       0.82      0.89      0.86      1045\n",
            "\n",
            "    accuracy                           0.85      2070\n",
            "   macro avg       0.85      0.85      0.85      2070\n",
            "weighted avg       0.85      0.85      0.85      2070\n",
            "\n",
            "===========================\n"
          ]
        },
        {
          "output_type": "display_data",
          "data": {
            "text/plain": [
              "<Figure size 864x648 with 1 Axes>"
            ],
            "image/png": "[encoded data removed]"
          },
          "metadata": {
            "needs_background": "light"
          }
        }
      ]
    },
    {
      "cell_type": "code",
      "source": [
        "from google.colab import drive\n",
        "drive.mount('/content/drive')"
      ],
      "metadata": {
        "id": "qduWZfUp02qt"
      },
      "execution_count": null,
      "outputs": []
    },
    {
      "cell_type": "markdown",
      "source": [
        "## And the winner is Random Forest Classifier....."
      ],
      "metadata": {
        "id": "oMJgI1MszKxL"
      }
    }
  ]
}